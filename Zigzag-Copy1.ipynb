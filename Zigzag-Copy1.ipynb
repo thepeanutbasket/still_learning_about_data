{
 "cells": [
  {
   "cell_type": "markdown",
   "metadata": {},
   "source": [
    "# Analyzing Data from Zigzag"
   ]
  },
  {
   "cell_type": "markdown",
   "metadata": {},
   "source": [
    "### Importing data through sqlite3"
   ]
  },
  {
   "cell_type": "code",
   "execution_count": 1,
   "metadata": {},
   "outputs": [],
   "source": [
    "import pandas as pd"
   ]
  },
  {
   "cell_type": "code",
   "execution_count": 2,
   "metadata": {},
   "outputs": [],
   "source": [
    "import sqlite3"
   ]
  },
  {
   "cell_type": "code",
   "execution_count": 3,
   "metadata": {},
   "outputs": [
    {
     "data": {
      "text/plain": [
       "<sqlite3.Connection at 0x25bd3b3e570>"
      ]
     },
     "execution_count": 3,
     "metadata": {},
     "output_type": "execute_result"
    }
   ],
   "source": [
    "connect = sqlite3.connect('C:/data/zigzag_DB.db')\n",
    "connect"
   ]
  },
  {
   "cell_type": "code",
   "execution_count": 4,
   "metadata": {},
   "outputs": [
    {
     "data": {
      "text/html": [
       "<div>\n",
       "<style scoped>\n",
       "    .dataframe tbody tr th:only-of-type {\n",
       "        vertical-align: middle;\n",
       "    }\n",
       "\n",
       "    .dataframe tbody tr th {\n",
       "        vertical-align: top;\n",
       "    }\n",
       "\n",
       "    .dataframe thead th {\n",
       "        text-align: right;\n",
       "    }\n",
       "</style>\n",
       "<table border=\"1\" class=\"dataframe\">\n",
       "  <thead>\n",
       "    <tr style=\"text-align: right;\">\n",
       "      <th></th>\n",
       "      <th>type</th>\n",
       "      <th>name</th>\n",
       "      <th>tbl_name</th>\n",
       "      <th>rootpage</th>\n",
       "      <th>sql</th>\n",
       "    </tr>\n",
       "  </thead>\n",
       "  <tbody>\n",
       "    <tr>\n",
       "      <th>0</th>\n",
       "      <td>table</td>\n",
       "      <td>order</td>\n",
       "      <td>order</td>\n",
       "      <td>3142</td>\n",
       "      <td>CREATE TABLE \"order\" (\\n\"timestamp\" TEXT,\\n  \"...</td>\n",
       "    </tr>\n",
       "    <tr>\n",
       "      <th>1</th>\n",
       "      <td>table</td>\n",
       "      <td>good</td>\n",
       "      <td>good</td>\n",
       "      <td>2</td>\n",
       "      <td>CREATE TABLE \"good\" (\\n\"goods_id\" INTEGER,\\n  ...</td>\n",
       "    </tr>\n",
       "    <tr>\n",
       "      <th>2</th>\n",
       "      <td>table</td>\n",
       "      <td>shop</td>\n",
       "      <td>shop</td>\n",
       "      <td>10</td>\n",
       "      <td>CREATE TABLE \"shop\" (\\n\"shop_id\" INTEGER,\\n  \"...</td>\n",
       "    </tr>\n",
       "    <tr>\n",
       "      <th>3</th>\n",
       "      <td>table</td>\n",
       "      <td>log</td>\n",
       "      <td>log</td>\n",
       "      <td>121</td>\n",
       "      <td>CREATE TABLE \"log\" (\\n\"timestamp\" TEXT,\\n  \"us...</td>\n",
       "    </tr>\n",
       "    <tr>\n",
       "      <th>4</th>\n",
       "      <td>table</td>\n",
       "      <td>user</td>\n",
       "      <td>user</td>\n",
       "      <td>18</td>\n",
       "      <td>CREATE TABLE \"user\" (\\n\"user_id\" TEXT,\\n  \"os\"...</td>\n",
       "    </tr>\n",
       "  </tbody>\n",
       "</table>\n",
       "</div>"
      ],
      "text/plain": [
       "    type   name tbl_name  rootpage  \\\n",
       "0  table  order    order      3142   \n",
       "1  table   good     good         2   \n",
       "2  table   shop     shop        10   \n",
       "3  table    log      log       121   \n",
       "4  table   user     user        18   \n",
       "\n",
       "                                                 sql  \n",
       "0  CREATE TABLE \"order\" (\\n\"timestamp\" TEXT,\\n  \"...  \n",
       "1  CREATE TABLE \"good\" (\\n\"goods_id\" INTEGER,\\n  ...  \n",
       "2  CREATE TABLE \"shop\" (\\n\"shop_id\" INTEGER,\\n  \"...  \n",
       "3  CREATE TABLE \"log\" (\\n\"timestamp\" TEXT,\\n  \"us...  \n",
       "4  CREATE TABLE \"user\" (\\n\"user_id\" TEXT,\\n  \"os\"...  "
      ]
     },
     "execution_count": 4,
     "metadata": {},
     "output_type": "execute_result"
    }
   ],
   "source": [
    "query = 'SELECT * FROM sqlite_master'\n",
    "schema = pd.read_sql(query, connect)\n",
    "\n",
    "schema"
   ]
  },
  {
   "cell_type": "code",
   "execution_count": 5,
   "metadata": {},
   "outputs": [
    {
     "name": "stdout",
     "output_type": "stream",
     "text": [
      "CREATE TABLE \"order\" (\n",
      "\"timestamp\" TEXT,\n",
      "  \"user_id\" TEXT,\n",
      "  \"goods_id\" INTEGER,\n",
      "  \"shop_id\" INTEGER,\n",
      "  \"price\" INTEGER\n",
      ")\n",
      "CREATE TABLE \"good\" (\n",
      "\"goods_id\" INTEGER,\n",
      "  \"timestamp\" TEXT,\n",
      "  \"shop_id\" INTEGER,\n",
      "  \"category\" TEXT,\n",
      "  \"price\" INTEGER,\n",
      "  \"image_type\" TEXT,\n",
      "  \"image_width\" INTEGER,\n",
      "  \"image_height\" INTEGER\n",
      ")\n",
      "CREATE TABLE \"shop\" (\n",
      "\"shop_id\" INTEGER,\n",
      "  \"name\" TEXT,\n",
      "  \"category\" TEXT,\n",
      "  \"age\" TEXT,\n",
      "  \"style\" TEXT\n",
      ")\n",
      "CREATE TABLE \"log\" (\n",
      "\"timestamp\" TEXT,\n",
      "  \"user_id\" TEXT,\n",
      "  \"event_origin\" TEXT,\n",
      "  \"event_name\" TEXT,\n",
      "  \"event_goods_id\" REAL,\n",
      "  \"event_shop_id\" REAL\n",
      ")\n",
      "CREATE TABLE \"user\" (\n",
      "\"user_id\" TEXT,\n",
      "  \"os\" TEXT,\n",
      "  \"age\" INTEGER\n",
      ")\n"
     ]
    }
   ],
   "source": [
    "for i in schema['sql']:\n",
    "    print(i)"
   ]
  },
  {
   "cell_type": "markdown",
   "metadata": {},
   "source": [
    "### Make a table named 'order' with purchase data"
   ]
  },
  {
   "cell_type": "code",
   "execution_count": 6,
   "metadata": {},
   "outputs": [
    {
     "data": {
      "text/html": [
       "<div>\n",
       "<style scoped>\n",
       "    .dataframe tbody tr th:only-of-type {\n",
       "        vertical-align: middle;\n",
       "    }\n",
       "\n",
       "    .dataframe tbody tr th {\n",
       "        vertical-align: top;\n",
       "    }\n",
       "\n",
       "    .dataframe thead th {\n",
       "        text-align: right;\n",
       "    }\n",
       "</style>\n",
       "<table border=\"1\" class=\"dataframe\">\n",
       "  <thead>\n",
       "    <tr style=\"text-align: right;\">\n",
       "      <th></th>\n",
       "      <th>timestamp</th>\n",
       "      <th>user_id</th>\n",
       "      <th>goods_id</th>\n",
       "      <th>shop_id</th>\n",
       "      <th>price</th>\n",
       "    </tr>\n",
       "  </thead>\n",
       "  <tbody>\n",
       "    <tr>\n",
       "      <th>0</th>\n",
       "      <td>2018-06-11 00:00:43.032</td>\n",
       "      <td>bvu0aLTqiFDoU-963xnr5nzQWTNLUMjx</td>\n",
       "      <td>1414</td>\n",
       "      <td>38</td>\n",
       "      <td>45000</td>\n",
       "    </tr>\n",
       "    <tr>\n",
       "      <th>1</th>\n",
       "      <td>2018-06-11 00:02:33.763</td>\n",
       "      <td>smDmRnykg61KajpxXKzQ0oNkrh2nuSBj</td>\n",
       "      <td>1351</td>\n",
       "      <td>12</td>\n",
       "      <td>9500</td>\n",
       "    </tr>\n",
       "    <tr>\n",
       "      <th>2</th>\n",
       "      <td>2018-06-11 00:04:06.364</td>\n",
       "      <td>EyGjKYtSqZgqJ1ddKCtH5XwGirTyOH2P</td>\n",
       "      <td>646</td>\n",
       "      <td>14</td>\n",
       "      <td>22000</td>\n",
       "    </tr>\n",
       "    <tr>\n",
       "      <th>3</th>\n",
       "      <td>2018-06-11 00:04:17.258</td>\n",
       "      <td>KQBGi33Zxh5Dgu0WEkOkjN0YqTT_wxC3</td>\n",
       "      <td>5901</td>\n",
       "      <td>46</td>\n",
       "      <td>29800</td>\n",
       "    </tr>\n",
       "    <tr>\n",
       "      <th>4</th>\n",
       "      <td>2018-06-11 00:05:26.010</td>\n",
       "      <td>lq1Je3voA3a0MouSFba3629lKCvweI24</td>\n",
       "      <td>5572</td>\n",
       "      <td>89</td>\n",
       "      <td>29000</td>\n",
       "    </tr>\n",
       "  </tbody>\n",
       "</table>\n",
       "</div>"
      ],
      "text/plain": [
       "                 timestamp                           user_id  goods_id  \\\n",
       "0  2018-06-11 00:00:43.032  bvu0aLTqiFDoU-963xnr5nzQWTNLUMjx      1414   \n",
       "1  2018-06-11 00:02:33.763  smDmRnykg61KajpxXKzQ0oNkrh2nuSBj      1351   \n",
       "2  2018-06-11 00:04:06.364  EyGjKYtSqZgqJ1ddKCtH5XwGirTyOH2P       646   \n",
       "3  2018-06-11 00:04:17.258  KQBGi33Zxh5Dgu0WEkOkjN0YqTT_wxC3      5901   \n",
       "4  2018-06-11 00:05:26.010  lq1Je3voA3a0MouSFba3629lKCvweI24      5572   \n",
       "\n",
       "   shop_id  price  \n",
       "0       38  45000  \n",
       "1       12   9500  \n",
       "2       14  22000  \n",
       "3       46  29800  \n",
       "4       89  29000  "
      ]
     },
     "execution_count": 6,
     "metadata": {},
     "output_type": "execute_result"
    }
   ],
   "source": [
    "query = \"SELECT * FROM 'order'\"\n",
    "\n",
    "order = pd.read_sql(query, connect)\n",
    "order.head(5)"
   ]
  },
  {
   "cell_type": "markdown",
   "metadata": {},
   "source": [
    "* timestamp: The exact time when the purchase is made\n",
    "* user_id: The id address for each user\n",
    "* goods_id: The id of goods that users purchase\n",
    "* shop_id: The id of shops where users purchase the goods\n",
    "* price: The price of the goods"
   ]
  },
  {
   "cell_type": "markdown",
   "metadata": {},
   "source": [
    "### Find the top 10 shopping malls"
   ]
  },
  {
   "cell_type": "code",
   "execution_count": 7,
   "metadata": {},
   "outputs": [
    {
     "data": {
      "text/html": [
       "<div>\n",
       "<style scoped>\n",
       "    .dataframe tbody tr th:only-of-type {\n",
       "        vertical-align: middle;\n",
       "    }\n",
       "\n",
       "    .dataframe tbody tr th {\n",
       "        vertical-align: top;\n",
       "    }\n",
       "\n",
       "    .dataframe thead th {\n",
       "        text-align: right;\n",
       "    }\n",
       "</style>\n",
       "<table border=\"1\" class=\"dataframe\">\n",
       "  <thead>\n",
       "    <tr style=\"text-align: right;\">\n",
       "      <th></th>\n",
       "      <th>price</th>\n",
       "    </tr>\n",
       "    <tr>\n",
       "      <th>shop_id</th>\n",
       "      <th></th>\n",
       "    </tr>\n",
       "  </thead>\n",
       "  <tbody>\n",
       "    <tr>\n",
       "      <th>1</th>\n",
       "      <td>84600</td>\n",
       "    </tr>\n",
       "    <tr>\n",
       "      <th>2</th>\n",
       "      <td>347100</td>\n",
       "    </tr>\n",
       "    <tr>\n",
       "      <th>3</th>\n",
       "      <td>143100</td>\n",
       "    </tr>\n",
       "    <tr>\n",
       "      <th>4</th>\n",
       "      <td>49000</td>\n",
       "    </tr>\n",
       "    <tr>\n",
       "      <th>5</th>\n",
       "      <td>9900</td>\n",
       "    </tr>\n",
       "    <tr>\n",
       "      <th>...</th>\n",
       "      <td>...</td>\n",
       "    </tr>\n",
       "    <tr>\n",
       "      <th>191</th>\n",
       "      <td>65000</td>\n",
       "    </tr>\n",
       "    <tr>\n",
       "      <th>192</th>\n",
       "      <td>7800</td>\n",
       "    </tr>\n",
       "    <tr>\n",
       "      <th>193</th>\n",
       "      <td>39000</td>\n",
       "    </tr>\n",
       "    <tr>\n",
       "      <th>194</th>\n",
       "      <td>32330</td>\n",
       "    </tr>\n",
       "    <tr>\n",
       "      <th>197</th>\n",
       "      <td>60600</td>\n",
       "    </tr>\n",
       "  </tbody>\n",
       "</table>\n",
       "<p>135 rows × 1 columns</p>\n",
       "</div>"
      ],
      "text/plain": [
       "          price\n",
       "shop_id        \n",
       "1         84600\n",
       "2        347100\n",
       "3        143100\n",
       "4         49000\n",
       "5          9900\n",
       "...         ...\n",
       "191       65000\n",
       "192        7800\n",
       "193       39000\n",
       "194       32330\n",
       "197       60600\n",
       "\n",
       "[135 rows x 1 columns]"
      ]
     },
     "execution_count": 7,
     "metadata": {},
     "output_type": "execute_result"
    }
   ],
   "source": [
    "tb = pd.pivot_table(order, values = 'price',\n",
    "                           index = 'shop_id',\n",
    "                           aggfunc = 'sum')\n",
    "tb"
   ]
  },
  {
   "cell_type": "code",
   "execution_count": 8,
   "metadata": {},
   "outputs": [
    {
     "data": {
      "text/html": [
       "<div>\n",
       "<style scoped>\n",
       "    .dataframe tbody tr th:only-of-type {\n",
       "        vertical-align: middle;\n",
       "    }\n",
       "\n",
       "    .dataframe tbody tr th {\n",
       "        vertical-align: top;\n",
       "    }\n",
       "\n",
       "    .dataframe thead th {\n",
       "        text-align: right;\n",
       "    }\n",
       "</style>\n",
       "<table border=\"1\" class=\"dataframe\">\n",
       "  <thead>\n",
       "    <tr style=\"text-align: right;\">\n",
       "      <th></th>\n",
       "      <th>price</th>\n",
       "    </tr>\n",
       "    <tr>\n",
       "      <th>shop_id</th>\n",
       "      <th></th>\n",
       "    </tr>\n",
       "  </thead>\n",
       "  <tbody>\n",
       "    <tr>\n",
       "      <th>22</th>\n",
       "      <td>1365200</td>\n",
       "    </tr>\n",
       "    <tr>\n",
       "      <th>14</th>\n",
       "      <td>872000</td>\n",
       "    </tr>\n",
       "    <tr>\n",
       "      <th>63</th>\n",
       "      <td>710700</td>\n",
       "    </tr>\n",
       "    <tr>\n",
       "      <th>32</th>\n",
       "      <td>707900</td>\n",
       "    </tr>\n",
       "    <tr>\n",
       "      <th>126</th>\n",
       "      <td>669400</td>\n",
       "    </tr>\n",
       "    <tr>\n",
       "      <th>6</th>\n",
       "      <td>655900</td>\n",
       "    </tr>\n",
       "    <tr>\n",
       "      <th>11</th>\n",
       "      <td>653000</td>\n",
       "    </tr>\n",
       "    <tr>\n",
       "      <th>60</th>\n",
       "      <td>558300</td>\n",
       "    </tr>\n",
       "    <tr>\n",
       "      <th>19</th>\n",
       "      <td>518400</td>\n",
       "    </tr>\n",
       "    <tr>\n",
       "      <th>12</th>\n",
       "      <td>446900</td>\n",
       "    </tr>\n",
       "  </tbody>\n",
       "</table>\n",
       "</div>"
      ],
      "text/plain": [
       "           price\n",
       "shop_id         \n",
       "22       1365200\n",
       "14        872000\n",
       "63        710700\n",
       "32        707900\n",
       "126       669400\n",
       "6         655900\n",
       "11        653000\n",
       "60        558300\n",
       "19        518400\n",
       "12        446900"
      ]
     },
     "execution_count": 8,
     "metadata": {},
     "output_type": "execute_result"
    }
   ],
   "source": [
    "tb.sort_values(('price'), ascending = False).head(10)"
   ]
  },
  {
   "cell_type": "markdown",
   "metadata": {},
   "source": [
    "### Find the top 10 malls and make a table including the number of sales"
   ]
  },
  {
   "cell_type": "code",
   "execution_count": 9,
   "metadata": {},
   "outputs": [],
   "source": [
    "tb = pd.pivot_table(order, values = 'price',\n",
    "                           index = 'shop_id',\n",
    "                           aggfunc = ['sum','count'])\n",
    "tb.columns = ['sum','count']"
   ]
  },
  {
   "cell_type": "code",
   "execution_count": 10,
   "metadata": {},
   "outputs": [],
   "source": [
    "import seaborn as sns\n",
    "import matplotlib.pyplot as plt\n",
    "%config InlineBackend.figure_format = 'retina'      # set as Korean"
   ]
  },
  {
   "cell_type": "code",
   "execution_count": 11,
   "metadata": {},
   "outputs": [],
   "source": [
    "top10 = tb.sort_values(('sum'), ascending = False).head(10)"
   ]
  },
  {
   "cell_type": "markdown",
   "metadata": {},
   "source": [
    "### Make a barplot with the sales of the top10 malls"
   ]
  },
  {
   "cell_type": "code",
   "execution_count": 12,
   "metadata": {},
   "outputs": [],
   "source": [
    "from matplotlib import font_manager, rc\n",
    "font_name = font_manager.FontProperties(fname = 'C:/windows/fonts/malgun.ttf').get_name()\n",
    "rc('font', family = font_name)"
   ]
  },
  {
   "cell_type": "code",
   "execution_count": 13,
   "metadata": {},
   "outputs": [
    {
     "data": {
      "text/plain": [
       "Text(0.5, 1.0, '매출 top10 쇼핑몰의 판매총금액')"
      ]
     },
     "execution_count": 13,
     "metadata": {},
     "output_type": "execute_result"
    },
    {
     "data": {
      "image/png": "[encoded data removed]",
      "text/plain": [
       "<Figure size 432x288 with 1 Axes>"
      ]
     },
     "metadata": {
      "image/png": {
       "height": 280,
       "width": 383
      },
      "needs_background": "light"
     },
     "output_type": "display_data"
    }
   ],
   "source": [
    "sns.barplot(data = top10, x = top10.index, y = 'sum', order = top10.index)\n",
    "plt.title('매출 top10 쇼핑몰의 판매총금액')"
   ]
  },
  {
   "cell_type": "markdown",
   "metadata": {},
   "source": [
    "### Visualize sales by time"
   ]
  },
  {
   "cell_type": "code",
   "execution_count": 14,
   "metadata": {},
   "outputs": [],
   "source": [
    "from IPython.display import set_matplotlib_formats\n",
    "set_matplotlib_formats('retina')"
   ]
  },
  {
   "cell_type": "code",
   "execution_count": 15,
   "metadata": {},
   "outputs": [
    {
     "data": {
      "text/plain": [
       "timestamp    object\n",
       "user_id      object\n",
       "goods_id      int64\n",
       "shop_id       int64\n",
       "price         int64\n",
       "dtype: object"
      ]
     },
     "execution_count": 15,
     "metadata": {},
     "output_type": "execute_result"
    }
   ],
   "source": [
    "order.dtypes"
   ]
  },
  {
   "cell_type": "code",
   "execution_count": 16,
   "metadata": {},
   "outputs": [
    {
     "data": {
      "text/plain": [
       "timestamp    datetime64[ns]\n",
       "user_id              object\n",
       "goods_id              int64\n",
       "shop_id               int64\n",
       "price                 int64\n",
       "dtype: object"
      ]
     },
     "execution_count": 16,
     "metadata": {},
     "output_type": "execute_result"
    }
   ],
   "source": [
    "order['timestamp'] = pd.to_datetime(order['timestamp'])\n",
    "order.dtypes"
   ]
  },
  {
   "cell_type": "code",
   "execution_count": 17,
   "metadata": {},
   "outputs": [
    {
     "data": {
      "text/plain": [
       "Text(0.5, 1.0, '시간대별 매출')"
      ]
     },
     "execution_count": 17,
     "metadata": {},
     "output_type": "execute_result"
    },
    {
     "data": {
      "image/png": "[encoded data removed]",
      "text/plain": [
       "<Figure size 1440x252 with 1 Axes>"
      ]
     },
     "metadata": {
      "image/png": {
       "height": 252,
       "width": 1184
      },
      "needs_background": "light"
     },
     "output_type": "display_data"
    }
   ],
   "source": [
    "plt.figure(figsize = (20,3.5))\n",
    "sns.lineplot(data = order, x = 'timestamp', y = 'price')\n",
    "plt.title('시간대별 매출')"
   ]
  },
  {
   "cell_type": "markdown",
   "metadata": {},
   "source": [
    "### Visualize sales by hour"
   ]
  },
  {
   "cell_type": "code",
   "execution_count": 18,
   "metadata": {},
   "outputs": [
    {
     "data": {
      "text/html": [
       "<div>\n",
       "<style scoped>\n",
       "    .dataframe tbody tr th:only-of-type {\n",
       "        vertical-align: middle;\n",
       "    }\n",
       "\n",
       "    .dataframe tbody tr th {\n",
       "        vertical-align: top;\n",
       "    }\n",
       "\n",
       "    .dataframe thead th {\n",
       "        text-align: right;\n",
       "    }\n",
       "</style>\n",
       "<table border=\"1\" class=\"dataframe\">\n",
       "  <thead>\n",
       "    <tr style=\"text-align: right;\">\n",
       "      <th></th>\n",
       "      <th>price</th>\n",
       "    </tr>\n",
       "    <tr>\n",
       "      <th>hour</th>\n",
       "      <th></th>\n",
       "    </tr>\n",
       "  </thead>\n",
       "  <tbody>\n",
       "    <tr>\n",
       "      <th>0</th>\n",
       "      <td>1479210</td>\n",
       "    </tr>\n",
       "    <tr>\n",
       "      <th>1</th>\n",
       "      <td>990300</td>\n",
       "    </tr>\n",
       "    <tr>\n",
       "      <th>2</th>\n",
       "      <td>787830</td>\n",
       "    </tr>\n",
       "    <tr>\n",
       "      <th>3</th>\n",
       "      <td>467650</td>\n",
       "    </tr>\n",
       "    <tr>\n",
       "      <th>4</th>\n",
       "      <td>304800</td>\n",
       "    </tr>\n",
       "  </tbody>\n",
       "</table>\n",
       "</div>"
      ],
      "text/plain": [
       "        price\n",
       "hour         \n",
       "0     1479210\n",
       "1      990300\n",
       "2      787830\n",
       "3      467650\n",
       "4      304800"
      ]
     },
     "execution_count": 18,
     "metadata": {},
     "output_type": "execute_result"
    }
   ],
   "source": [
    "order['hour'] = order['timestamp'].dt.hour\n",
    "tb = order.pivot_table(values = 'price', index = 'hour', aggfunc = 'sum')\n",
    "tb.head()"
   ]
  },
  {
   "cell_type": "code",
   "execution_count": 19,
   "metadata": {},
   "outputs": [
    {
     "data": {
      "text/plain": [
       "Text(0.5, 1.0, '시간별 매출')"
      ]
     },
     "execution_count": 19,
     "metadata": {},
     "output_type": "execute_result"
    },
    {
     "data": {
      "image/png": "[encoded data removed]",
      "text/plain": [
       "<Figure size 1080x288 with 1 Axes>"
      ]
     },
     "metadata": {
      "image/png": {
       "height": 279,
       "width": 886
      },
      "needs_background": "light"
     },
     "output_type": "display_data"
    }
   ],
   "source": [
    "plt.figure(figsize = [15,4])\n",
    "sns.lineplot(data = tb, x = tb.index, y = 'price')\n",
    "plt.title('시간별 매출')"
   ]
  },
  {
   "cell_type": "markdown",
   "metadata": {},
   "source": [
    "### Merge 'user' table with 'order' table"
   ]
  },
  {
   "cell_type": "code",
   "execution_count": 20,
   "metadata": {},
   "outputs": [
    {
     "data": {
      "text/plain": [
       "user_id    object\n",
       "os         object\n",
       "age         int64\n",
       "dtype: object"
      ]
     },
     "execution_count": 20,
     "metadata": {},
     "output_type": "execute_result"
    }
   ],
   "source": [
    "query = \"SELECT * FROM 'user'\"\n",
    "\n",
    "user = pd.read_sql(query, connect)\n",
    "user.dtypes"
   ]
  },
  {
   "cell_type": "code",
   "execution_count": 21,
   "metadata": {},
   "outputs": [
    {
     "data": {
      "text/html": [
       "<div>\n",
       "<style scoped>\n",
       "    .dataframe tbody tr th:only-of-type {\n",
       "        vertical-align: middle;\n",
       "    }\n",
       "\n",
       "    .dataframe tbody tr th {\n",
       "        vertical-align: top;\n",
       "    }\n",
       "\n",
       "    .dataframe thead th {\n",
       "        text-align: right;\n",
       "    }\n",
       "</style>\n",
       "<table border=\"1\" class=\"dataframe\">\n",
       "  <thead>\n",
       "    <tr style=\"text-align: right;\">\n",
       "      <th></th>\n",
       "      <th>timestamp</th>\n",
       "      <th>user_id</th>\n",
       "      <th>goods_id</th>\n",
       "      <th>shop_id</th>\n",
       "      <th>price</th>\n",
       "      <th>hour</th>\n",
       "      <th>os</th>\n",
       "      <th>age</th>\n",
       "    </tr>\n",
       "  </thead>\n",
       "  <tbody>\n",
       "    <tr>\n",
       "      <th>0</th>\n",
       "      <td>2018-06-11 00:00:43.032</td>\n",
       "      <td>bvu0aLTqiFDoU-963xnr5nzQWTNLUMjx</td>\n",
       "      <td>1414</td>\n",
       "      <td>38</td>\n",
       "      <td>45000</td>\n",
       "      <td>0</td>\n",
       "      <td>iOS</td>\n",
       "      <td>39</td>\n",
       "    </tr>\n",
       "    <tr>\n",
       "      <th>1</th>\n",
       "      <td>2018-06-11 00:02:33.763</td>\n",
       "      <td>smDmRnykg61KajpxXKzQ0oNkrh2nuSBj</td>\n",
       "      <td>1351</td>\n",
       "      <td>12</td>\n",
       "      <td>9500</td>\n",
       "      <td>0</td>\n",
       "      <td>And</td>\n",
       "      <td>17</td>\n",
       "    </tr>\n",
       "    <tr>\n",
       "      <th>2</th>\n",
       "      <td>2018-06-11 00:04:06.364</td>\n",
       "      <td>EyGjKYtSqZgqJ1ddKCtH5XwGirTyOH2P</td>\n",
       "      <td>646</td>\n",
       "      <td>14</td>\n",
       "      <td>22000</td>\n",
       "      <td>0</td>\n",
       "      <td>And</td>\n",
       "      <td>-1</td>\n",
       "    </tr>\n",
       "    <tr>\n",
       "      <th>3</th>\n",
       "      <td>2018-06-11 00:04:17.258</td>\n",
       "      <td>KQBGi33Zxh5Dgu0WEkOkjN0YqTT_wxC3</td>\n",
       "      <td>5901</td>\n",
       "      <td>46</td>\n",
       "      <td>29800</td>\n",
       "      <td>0</td>\n",
       "      <td>And</td>\n",
       "      <td>34</td>\n",
       "    </tr>\n",
       "    <tr>\n",
       "      <th>4</th>\n",
       "      <td>2018-06-11 00:05:26.010</td>\n",
       "      <td>lq1Je3voA3a0MouSFba3629lKCvweI24</td>\n",
       "      <td>5572</td>\n",
       "      <td>89</td>\n",
       "      <td>29000</td>\n",
       "      <td>0</td>\n",
       "      <td>And</td>\n",
       "      <td>17</td>\n",
       "    </tr>\n",
       "  </tbody>\n",
       "</table>\n",
       "</div>"
      ],
      "text/plain": [
       "                timestamp                           user_id  goods_id  \\\n",
       "0 2018-06-11 00:00:43.032  bvu0aLTqiFDoU-963xnr5nzQWTNLUMjx      1414   \n",
       "1 2018-06-11 00:02:33.763  smDmRnykg61KajpxXKzQ0oNkrh2nuSBj      1351   \n",
       "2 2018-06-11 00:04:06.364  EyGjKYtSqZgqJ1ddKCtH5XwGirTyOH2P       646   \n",
       "3 2018-06-11 00:04:17.258  KQBGi33Zxh5Dgu0WEkOkjN0YqTT_wxC3      5901   \n",
       "4 2018-06-11 00:05:26.010  lq1Je3voA3a0MouSFba3629lKCvweI24      5572   \n",
       "\n",
       "   shop_id  price  hour   os  age  \n",
       "0       38  45000     0  iOS   39  \n",
       "1       12   9500     0  And   17  \n",
       "2       14  22000     0  And   -1  \n",
       "3       46  29800     0  And   34  \n",
       "4       89  29000     0  And   17  "
      ]
     },
     "execution_count": 21,
     "metadata": {},
     "output_type": "execute_result"
    }
   ],
   "source": [
    "merge = pd.merge(order , user, on = 'user_id')\n",
    "merge.head()"
   ]
  },
  {
   "cell_type": "markdown",
   "metadata": {},
   "source": [
    "### Visualize the age group of the top 10 malls"
   ]
  },
  {
   "cell_type": "code",
   "execution_count": 22,
   "metadata": {},
   "outputs": [
    {
     "data": {
      "text/plain": [
       "array([39, 17, -1, 34, 21, 22, 24, 27, 44, 28, 19, 15, 26, 31, 29, 18, 36,\n",
       "       16, 20, 30, 45, 32, 23, 33, 25, 35, 37, 38, 41, 43, 40],\n",
       "      dtype=int64)"
      ]
     },
     "execution_count": 22,
     "metadata": {},
     "output_type": "execute_result"
    }
   ],
   "source": [
    "merge['age'].unique()"
   ]
  },
  {
   "cell_type": "code",
   "execution_count": 23,
   "metadata": {},
   "outputs": [],
   "source": [
    "merge_top10 = merge[(merge['shop_id'].isin(top10.index)) & (merge['age'] != -1)]"
   ]
  },
  {
   "cell_type": "code",
   "execution_count": 24,
   "metadata": {},
   "outputs": [
    {
     "data": {
      "text/plain": [
       "<matplotlib.axes._subplots.AxesSubplot at 0x25bd7c30648>"
      ]
     },
     "execution_count": 24,
     "metadata": {},
     "output_type": "execute_result"
    },
    {
     "data": {
      "image/png": "[encoded data removed]",
      "text/plain": [
       "<Figure size 1080x288 with 1 Axes>"
      ]
     },
     "metadata": {
      "image/png": {
       "height": 263,
       "width": 883
      },
      "needs_background": "light"
     },
     "output_type": "display_data"
    }
   ],
   "source": [
    "plt.figure(figsize = (15,4))\n",
    "sns.boxplot(data = merge_top10, x = 'shop_id', y = 'age')"
   ]
  },
  {
   "cell_type": "markdown",
   "metadata": {},
   "source": [
    "### Make a column to see if customers' age group fits the target age group of the malls"
   ]
  },
  {
   "cell_type": "code",
   "execution_count": 25,
   "metadata": {},
   "outputs": [],
   "source": [
    "age_group = []\n",
    "for i in user['age']:\n",
    "    if i == -1:\n",
    "        age_group.append('알수없음')\n",
    "    elif i // 10 == 1:\n",
    "        age_group.append('10대')\n",
    "    elif i // 10 > 3:\n",
    "        age_group.append('30대 후반')\n",
    "    else:\n",
    "        if i % 10 < 3:\n",
    "            age_group.append(str(i // 10 * 10) + '대 초반')\n",
    "        elif i % 10 <= 6:\n",
    "            age_group.append(str(i // 10 * 10) + '대 중반')\n",
    "        else:\n",
    "            age_group.append(str(i // 10 * 10) + '대 후반')"
   ]
  },
  {
   "cell_type": "code",
   "execution_count": 27,
   "metadata": {},
   "outputs": [
    {
     "data": {
      "text/plain": [
       "10000"
      ]
     },
     "execution_count": 27,
     "metadata": {},
     "output_type": "execute_result"
    }
   ],
   "source": [
    "len(user['age'])"
   ]
  },
  {
   "cell_type": "code",
   "execution_count": 29,
   "metadata": {},
   "outputs": [
    {
     "data": {
      "text/plain": [
       "10000"
      ]
     },
     "execution_count": 29,
     "metadata": {},
     "output_type": "execute_result"
    }
   ],
   "source": [
    "len(age_group) "
   ]
  },
  {
   "cell_type": "code",
   "execution_count": 30,
   "metadata": {},
   "outputs": [],
   "source": [
    "user['age_group'] = age_group"
   ]
  },
  {
   "cell_type": "code",
   "execution_count": 31,
   "metadata": {},
   "outputs": [
    {
     "data": {
      "text/plain": [
       "Index(['shop_id', 'name', 'category', 'age', 'style'], dtype='object')"
      ]
     },
     "execution_count": 31,
     "metadata": {},
     "output_type": "execute_result"
    }
   ],
   "source": [
    "query = \"SELECT * FROM 'shop'\"\n",
    "shop = pd.read_sql(query, connect)\n",
    "shop.columns"
   ]
  },
  {
   "cell_type": "code",
   "execution_count": 32,
   "metadata": {},
   "outputs": [
    {
     "data": {
      "text/html": [
       "<div>\n",
       "<style scoped>\n",
       "    .dataframe tbody tr th:only-of-type {\n",
       "        vertical-align: middle;\n",
       "    }\n",
       "\n",
       "    .dataframe tbody tr th {\n",
       "        vertical-align: top;\n",
       "    }\n",
       "\n",
       "    .dataframe thead th {\n",
       "        text-align: right;\n",
       "    }\n",
       "</style>\n",
       "<table border=\"1\" class=\"dataframe\">\n",
       "  <thead>\n",
       "    <tr style=\"text-align: right;\">\n",
       "      <th></th>\n",
       "      <th>timestamp</th>\n",
       "      <th>user_id</th>\n",
       "      <th>goods_id</th>\n",
       "      <th>shop_id</th>\n",
       "      <th>price</th>\n",
       "      <th>hour</th>\n",
       "      <th>os</th>\n",
       "      <th>age_x</th>\n",
       "      <th>age_group</th>\n",
       "      <th>name</th>\n",
       "      <th>category</th>\n",
       "      <th>age_y</th>\n",
       "      <th>style</th>\n",
       "    </tr>\n",
       "  </thead>\n",
       "  <tbody>\n",
       "    <tr>\n",
       "      <th>0</th>\n",
       "      <td>2018-06-11 00:00:43.032</td>\n",
       "      <td>bvu0aLTqiFDoU-963xnr5nzQWTNLUMjx</td>\n",
       "      <td>1414</td>\n",
       "      <td>38</td>\n",
       "      <td>45000</td>\n",
       "      <td>0</td>\n",
       "      <td>iOS</td>\n",
       "      <td>39</td>\n",
       "      <td>30대 후반</td>\n",
       "      <td>Mabel</td>\n",
       "      <td>의류</td>\n",
       "      <td>20대 후반/30대 초반/30대 중반</td>\n",
       "      <td>모던시크/페미닌</td>\n",
       "    </tr>\n",
       "    <tr>\n",
       "      <th>1</th>\n",
       "      <td>2018-06-11 07:33:39.823</td>\n",
       "      <td>ni3NQK35j-YaSxli-C_Sz7ZmQqOwMljL</td>\n",
       "      <td>2278</td>\n",
       "      <td>38</td>\n",
       "      <td>37000</td>\n",
       "      <td>7</td>\n",
       "      <td>And</td>\n",
       "      <td>32</td>\n",
       "      <td>30대 초반</td>\n",
       "      <td>Mabel</td>\n",
       "      <td>의류</td>\n",
       "      <td>20대 후반/30대 초반/30대 중반</td>\n",
       "      <td>모던시크/페미닌</td>\n",
       "    </tr>\n",
       "    <tr>\n",
       "      <th>2</th>\n",
       "      <td>2018-06-11 12:56:27.867</td>\n",
       "      <td>MnvhmV0tA89bN9TLXgRTbLza689bTkT9</td>\n",
       "      <td>5513</td>\n",
       "      <td>38</td>\n",
       "      <td>31000</td>\n",
       "      <td>12</td>\n",
       "      <td>And</td>\n",
       "      <td>37</td>\n",
       "      <td>30대 후반</td>\n",
       "      <td>Mabel</td>\n",
       "      <td>의류</td>\n",
       "      <td>20대 후반/30대 초반/30대 중반</td>\n",
       "      <td>모던시크/페미닌</td>\n",
       "    </tr>\n",
       "    <tr>\n",
       "      <th>3</th>\n",
       "      <td>2018-06-11 22:57:11.582</td>\n",
       "      <td>3Vo9NP0qU_176pgbqk6Cu-CY7kpJ2-WB</td>\n",
       "      <td>7026</td>\n",
       "      <td>38</td>\n",
       "      <td>17100</td>\n",
       "      <td>22</td>\n",
       "      <td>iOS</td>\n",
       "      <td>34</td>\n",
       "      <td>30대 중반</td>\n",
       "      <td>Mabel</td>\n",
       "      <td>의류</td>\n",
       "      <td>20대 후반/30대 초반/30대 중반</td>\n",
       "      <td>모던시크/페미닌</td>\n",
       "    </tr>\n",
       "    <tr>\n",
       "      <th>4</th>\n",
       "      <td>2018-06-11 00:02:33.763</td>\n",
       "      <td>smDmRnykg61KajpxXKzQ0oNkrh2nuSBj</td>\n",
       "      <td>1351</td>\n",
       "      <td>12</td>\n",
       "      <td>9500</td>\n",
       "      <td>0</td>\n",
       "      <td>And</td>\n",
       "      <td>17</td>\n",
       "      <td>10대</td>\n",
       "      <td>Rachel</td>\n",
       "      <td>의류</td>\n",
       "      <td>10대/20대 초반</td>\n",
       "      <td>러블리/심플베이직</td>\n",
       "    </tr>\n",
       "  </tbody>\n",
       "</table>\n",
       "</div>"
      ],
      "text/plain": [
       "                timestamp                           user_id  goods_id  \\\n",
       "0 2018-06-11 00:00:43.032  bvu0aLTqiFDoU-963xnr5nzQWTNLUMjx      1414   \n",
       "1 2018-06-11 07:33:39.823  ni3NQK35j-YaSxli-C_Sz7ZmQqOwMljL      2278   \n",
       "2 2018-06-11 12:56:27.867  MnvhmV0tA89bN9TLXgRTbLza689bTkT9      5513   \n",
       "3 2018-06-11 22:57:11.582  3Vo9NP0qU_176pgbqk6Cu-CY7kpJ2-WB      7026   \n",
       "4 2018-06-11 00:02:33.763  smDmRnykg61KajpxXKzQ0oNkrh2nuSBj      1351   \n",
       "\n",
       "   shop_id  price  hour   os  age_x age_group    name category  \\\n",
       "0       38  45000     0  iOS     39    30대 후반   Mabel       의류   \n",
       "1       38  37000     7  And     32    30대 초반   Mabel       의류   \n",
       "2       38  31000    12  And     37    30대 후반   Mabel       의류   \n",
       "3       38  17100    22  iOS     34    30대 중반   Mabel       의류   \n",
       "4       12   9500     0  And     17       10대  Rachel       의류   \n",
       "\n",
       "                  age_y      style  \n",
       "0  20대 후반/30대 초반/30대 중반   모던시크/페미닌  \n",
       "1  20대 후반/30대 초반/30대 중반   모던시크/페미닌  \n",
       "2  20대 후반/30대 초반/30대 중반   모던시크/페미닌  \n",
       "3  20대 후반/30대 초반/30대 중반   모던시크/페미닌  \n",
       "4            10대/20대 초반  러블리/심플베이직  "
      ]
     },
     "execution_count": 32,
     "metadata": {},
     "output_type": "execute_result"
    }
   ],
   "source": [
    "merge = pd.merge(order, user, on = 'user_id')\n",
    "merge = pd.merge(merge, shop, on = 'shop_id')\n",
    "\n",
    "merge.head()"
   ]
  },
  {
   "cell_type": "code",
   "execution_count": 38,
   "metadata": {},
   "outputs": [],
   "source": [
    "def check(var):\n",
    "    if var['category'] == '의류' and var['age_group'] == '알수없음': \n",
    "        return True\n",
    "    else:\n",
    "        return var['age_group'] in str(var['age_y'])"
   ]
  },
  {
   "cell_type": "code",
   "execution_count": 39,
   "metadata": {},
   "outputs": [
    {
     "data": {
      "text/html": [
       "<div>\n",
       "<style scoped>\n",
       "    .dataframe tbody tr th:only-of-type {\n",
       "        vertical-align: middle;\n",
       "    }\n",
       "\n",
       "    .dataframe tbody tr th {\n",
       "        vertical-align: top;\n",
       "    }\n",
       "\n",
       "    .dataframe thead th {\n",
       "        text-align: right;\n",
       "    }\n",
       "</style>\n",
       "<table border=\"1\" class=\"dataframe\">\n",
       "  <thead>\n",
       "    <tr style=\"text-align: right;\">\n",
       "      <th></th>\n",
       "      <th>timestamp</th>\n",
       "      <th>user_id</th>\n",
       "      <th>goods_id</th>\n",
       "      <th>shop_id</th>\n",
       "      <th>price</th>\n",
       "      <th>hour</th>\n",
       "      <th>os</th>\n",
       "      <th>age_x</th>\n",
       "      <th>age_group</th>\n",
       "      <th>name</th>\n",
       "      <th>category</th>\n",
       "      <th>age_y</th>\n",
       "      <th>style</th>\n",
       "      <th>거래연령 일치여부</th>\n",
       "    </tr>\n",
       "  </thead>\n",
       "  <tbody>\n",
       "    <tr>\n",
       "      <th>0</th>\n",
       "      <td>2018-06-11 00:00:43.032</td>\n",
       "      <td>bvu0aLTqiFDoU-963xnr5nzQWTNLUMjx</td>\n",
       "      <td>1414</td>\n",
       "      <td>38</td>\n",
       "      <td>45000</td>\n",
       "      <td>0</td>\n",
       "      <td>iOS</td>\n",
       "      <td>39</td>\n",
       "      <td>30대 후반</td>\n",
       "      <td>Mabel</td>\n",
       "      <td>의류</td>\n",
       "      <td>20대 후반/30대 초반/30대 중반</td>\n",
       "      <td>모던시크/페미닌</td>\n",
       "      <td>False</td>\n",
       "    </tr>\n",
       "    <tr>\n",
       "      <th>1</th>\n",
       "      <td>2018-06-11 07:33:39.823</td>\n",
       "      <td>ni3NQK35j-YaSxli-C_Sz7ZmQqOwMljL</td>\n",
       "      <td>2278</td>\n",
       "      <td>38</td>\n",
       "      <td>37000</td>\n",
       "      <td>7</td>\n",
       "      <td>And</td>\n",
       "      <td>32</td>\n",
       "      <td>30대 초반</td>\n",
       "      <td>Mabel</td>\n",
       "      <td>의류</td>\n",
       "      <td>20대 후반/30대 초반/30대 중반</td>\n",
       "      <td>모던시크/페미닌</td>\n",
       "      <td>True</td>\n",
       "    </tr>\n",
       "    <tr>\n",
       "      <th>2</th>\n",
       "      <td>2018-06-11 12:56:27.867</td>\n",
       "      <td>MnvhmV0tA89bN9TLXgRTbLza689bTkT9</td>\n",
       "      <td>5513</td>\n",
       "      <td>38</td>\n",
       "      <td>31000</td>\n",
       "      <td>12</td>\n",
       "      <td>And</td>\n",
       "      <td>37</td>\n",
       "      <td>30대 후반</td>\n",
       "      <td>Mabel</td>\n",
       "      <td>의류</td>\n",
       "      <td>20대 후반/30대 초반/30대 중반</td>\n",
       "      <td>모던시크/페미닌</td>\n",
       "      <td>False</td>\n",
       "    </tr>\n",
       "    <tr>\n",
       "      <th>3</th>\n",
       "      <td>2018-06-11 22:57:11.582</td>\n",
       "      <td>3Vo9NP0qU_176pgbqk6Cu-CY7kpJ2-WB</td>\n",
       "      <td>7026</td>\n",
       "      <td>38</td>\n",
       "      <td>17100</td>\n",
       "      <td>22</td>\n",
       "      <td>iOS</td>\n",
       "      <td>34</td>\n",
       "      <td>30대 중반</td>\n",
       "      <td>Mabel</td>\n",
       "      <td>의류</td>\n",
       "      <td>20대 후반/30대 초반/30대 중반</td>\n",
       "      <td>모던시크/페미닌</td>\n",
       "      <td>True</td>\n",
       "    </tr>\n",
       "    <tr>\n",
       "      <th>4</th>\n",
       "      <td>2018-06-11 00:02:33.763</td>\n",
       "      <td>smDmRnykg61KajpxXKzQ0oNkrh2nuSBj</td>\n",
       "      <td>1351</td>\n",
       "      <td>12</td>\n",
       "      <td>9500</td>\n",
       "      <td>0</td>\n",
       "      <td>And</td>\n",
       "      <td>17</td>\n",
       "      <td>10대</td>\n",
       "      <td>Rachel</td>\n",
       "      <td>의류</td>\n",
       "      <td>10대/20대 초반</td>\n",
       "      <td>러블리/심플베이직</td>\n",
       "      <td>True</td>\n",
       "    </tr>\n",
       "  </tbody>\n",
       "</table>\n",
       "</div>"
      ],
      "text/plain": [
       "                timestamp                           user_id  goods_id  \\\n",
       "0 2018-06-11 00:00:43.032  bvu0aLTqiFDoU-963xnr5nzQWTNLUMjx      1414   \n",
       "1 2018-06-11 07:33:39.823  ni3NQK35j-YaSxli-C_Sz7ZmQqOwMljL      2278   \n",
       "2 2018-06-11 12:56:27.867  MnvhmV0tA89bN9TLXgRTbLza689bTkT9      5513   \n",
       "3 2018-06-11 22:57:11.582  3Vo9NP0qU_176pgbqk6Cu-CY7kpJ2-WB      7026   \n",
       "4 2018-06-11 00:02:33.763  smDmRnykg61KajpxXKzQ0oNkrh2nuSBj      1351   \n",
       "\n",
       "   shop_id  price  hour   os  age_x age_group    name category  \\\n",
       "0       38  45000     0  iOS     39    30대 후반   Mabel       의류   \n",
       "1       38  37000     7  And     32    30대 초반   Mabel       의류   \n",
       "2       38  31000    12  And     37    30대 후반   Mabel       의류   \n",
       "3       38  17100    22  iOS     34    30대 중반   Mabel       의류   \n",
       "4       12   9500     0  And     17       10대  Rachel       의류   \n",
       "\n",
       "                  age_y      style  거래연령 일치여부  \n",
       "0  20대 후반/30대 초반/30대 중반   모던시크/페미닌      False  \n",
       "1  20대 후반/30대 초반/30대 중반   모던시크/페미닌       True  \n",
       "2  20대 후반/30대 초반/30대 중반   모던시크/페미닌      False  \n",
       "3  20대 후반/30대 초반/30대 중반   모던시크/페미닌       True  \n",
       "4            10대/20대 초반  러블리/심플베이직       True  "
      ]
     },
     "execution_count": 39,
     "metadata": {},
     "output_type": "execute_result"
    }
   ],
   "source": [
    "merge['거래연령 일치여부'] = merge.apply(check, axis = 1)\n",
    "merge.head()"
   ]
  },
  {
   "cell_type": "code",
   "execution_count": 40,
   "metadata": {},
   "outputs": [
    {
     "data": {
      "text/html": [
       "<div>\n",
       "<style scoped>\n",
       "    .dataframe tbody tr th:only-of-type {\n",
       "        vertical-align: middle;\n",
       "    }\n",
       "\n",
       "    .dataframe tbody tr th {\n",
       "        vertical-align: top;\n",
       "    }\n",
       "\n",
       "    .dataframe thead tr th {\n",
       "        text-align: left;\n",
       "    }\n",
       "\n",
       "    .dataframe thead tr:last-of-type th {\n",
       "        text-align: right;\n",
       "    }\n",
       "</style>\n",
       "<table border=\"1\" class=\"dataframe\">\n",
       "  <thead>\n",
       "    <tr>\n",
       "      <th></th>\n",
       "      <th>mean</th>\n",
       "      <th>count</th>\n",
       "    </tr>\n",
       "    <tr>\n",
       "      <th></th>\n",
       "      <th>거래연령 일치여부</th>\n",
       "      <th>거래연령 일치여부</th>\n",
       "    </tr>\n",
       "    <tr>\n",
       "      <th>shop_id</th>\n",
       "      <th></th>\n",
       "      <th></th>\n",
       "    </tr>\n",
       "  </thead>\n",
       "  <tbody>\n",
       "    <tr>\n",
       "      <th>1</th>\n",
       "      <td>0.666667</td>\n",
       "      <td>3</td>\n",
       "    </tr>\n",
       "    <tr>\n",
       "      <th>2</th>\n",
       "      <td>0.937500</td>\n",
       "      <td>16</td>\n",
       "    </tr>\n",
       "    <tr>\n",
       "      <th>3</th>\n",
       "      <td>0.400000</td>\n",
       "      <td>5</td>\n",
       "    </tr>\n",
       "    <tr>\n",
       "      <th>4</th>\n",
       "      <td>1.000000</td>\n",
       "      <td>1</td>\n",
       "    </tr>\n",
       "    <tr>\n",
       "      <th>5</th>\n",
       "      <td>0.000000</td>\n",
       "      <td>1</td>\n",
       "    </tr>\n",
       "  </tbody>\n",
       "</table>\n",
       "</div>"
      ],
      "text/plain": [
       "             mean     count\n",
       "        거래연령 일치여부 거래연령 일치여부\n",
       "shop_id                    \n",
       "1        0.666667         3\n",
       "2        0.937500        16\n",
       "3        0.400000         5\n",
       "4        1.000000         1\n",
       "5        0.000000         1"
      ]
     },
     "execution_count": 40,
     "metadata": {},
     "output_type": "execute_result"
    }
   ],
   "source": [
    "piv_table = merge.pivot_table(values = '거래연령 일치여부',\n",
    "                              index = 'shop_id',\n",
    "                              aggfunc = ['mean','count'])\n",
    "piv_table.head()"
   ]
  },
  {
   "cell_type": "code",
   "execution_count": 41,
   "metadata": {},
   "outputs": [
    {
     "data": {
      "text/html": [
       "<div>\n",
       "<style scoped>\n",
       "    .dataframe tbody tr th:only-of-type {\n",
       "        vertical-align: middle;\n",
       "    }\n",
       "\n",
       "    .dataframe tbody tr th {\n",
       "        vertical-align: top;\n",
       "    }\n",
       "\n",
       "    .dataframe thead tr th {\n",
       "        text-align: left;\n",
       "    }\n",
       "\n",
       "    .dataframe thead tr:last-of-type th {\n",
       "        text-align: right;\n",
       "    }\n",
       "</style>\n",
       "<table border=\"1\" class=\"dataframe\">\n",
       "  <thead>\n",
       "    <tr>\n",
       "      <th></th>\n",
       "      <th>mean</th>\n",
       "      <th>count</th>\n",
       "    </tr>\n",
       "    <tr>\n",
       "      <th></th>\n",
       "      <th>거래연령 일치여부</th>\n",
       "      <th>거래연령 일치여부</th>\n",
       "    </tr>\n",
       "    <tr>\n",
       "      <th>shop_id</th>\n",
       "      <th></th>\n",
       "      <th></th>\n",
       "    </tr>\n",
       "  </thead>\n",
       "  <tbody>\n",
       "    <tr>\n",
       "      <th>6</th>\n",
       "      <td>0.750000</td>\n",
       "      <td>24</td>\n",
       "    </tr>\n",
       "    <tr>\n",
       "      <th>11</th>\n",
       "      <td>0.684211</td>\n",
       "      <td>19</td>\n",
       "    </tr>\n",
       "    <tr>\n",
       "      <th>12</th>\n",
       "      <td>0.857143</td>\n",
       "      <td>42</td>\n",
       "    </tr>\n",
       "    <tr>\n",
       "      <th>14</th>\n",
       "      <td>0.566667</td>\n",
       "      <td>30</td>\n",
       "    </tr>\n",
       "    <tr>\n",
       "      <th>19</th>\n",
       "      <td>0.789474</td>\n",
       "      <td>19</td>\n",
       "    </tr>\n",
       "    <tr>\n",
       "      <th>22</th>\n",
       "      <td>0.929293</td>\n",
       "      <td>99</td>\n",
       "    </tr>\n",
       "    <tr>\n",
       "      <th>32</th>\n",
       "      <td>0.540541</td>\n",
       "      <td>37</td>\n",
       "    </tr>\n",
       "    <tr>\n",
       "      <th>60</th>\n",
       "      <td>0.695652</td>\n",
       "      <td>23</td>\n",
       "    </tr>\n",
       "    <tr>\n",
       "      <th>63</th>\n",
       "      <td>0.000000</td>\n",
       "      <td>27</td>\n",
       "    </tr>\n",
       "    <tr>\n",
       "      <th>126</th>\n",
       "      <td>0.000000</td>\n",
       "      <td>39</td>\n",
       "    </tr>\n",
       "  </tbody>\n",
       "</table>\n",
       "</div>"
      ],
      "text/plain": [
       "             mean     count\n",
       "        거래연령 일치여부 거래연령 일치여부\n",
       "shop_id                    \n",
       "6        0.750000        24\n",
       "11       0.684211        19\n",
       "12       0.857143        42\n",
       "14       0.566667        30\n",
       "19       0.789474        19\n",
       "22       0.929293        99\n",
       "32       0.540541        37\n",
       "60       0.695652        23\n",
       "63       0.000000        27\n",
       "126      0.000000        39"
      ]
     },
     "execution_count": 41,
     "metadata": {},
     "output_type": "execute_result"
    }
   ],
   "source": [
    "piv_table[piv_table.index.isin(top10.index)]"
   ]
  },
  {
   "cell_type": "markdown",
   "metadata": {},
   "source": [
    "The table above represents how much the target age group of the top 10 malls fits the actual users' age group."
   ]
  },
  {
   "cell_type": "code",
   "execution_count": 42,
   "metadata": {},
   "outputs": [
    {
     "data": {
      "text/html": [
       "<div>\n",
       "<style scoped>\n",
       "    .dataframe tbody tr th:only-of-type {\n",
       "        vertical-align: middle;\n",
       "    }\n",
       "\n",
       "    .dataframe tbody tr th {\n",
       "        vertical-align: top;\n",
       "    }\n",
       "\n",
       "    .dataframe thead th {\n",
       "        text-align: right;\n",
       "    }\n",
       "</style>\n",
       "<table border=\"1\" class=\"dataframe\">\n",
       "  <thead>\n",
       "    <tr style=\"text-align: right;\">\n",
       "      <th></th>\n",
       "      <th>shop_id</th>\n",
       "      <th>name</th>\n",
       "      <th>category</th>\n",
       "      <th>age</th>\n",
       "      <th>style</th>\n",
       "      <th>페미닌</th>\n",
       "      <th>모던시크</th>\n",
       "      <th>심플베이직</th>\n",
       "      <th>러블리</th>\n",
       "      <th>유니크</th>\n",
       "      <th>...</th>\n",
       "      <th>스쿨룩</th>\n",
       "      <th>로맨틱</th>\n",
       "      <th>오피스룩</th>\n",
       "      <th>럭셔리</th>\n",
       "      <th>헐리웃스타일</th>\n",
       "      <th>심플시크</th>\n",
       "      <th>키치</th>\n",
       "      <th>펑키</th>\n",
       "      <th>큐티</th>\n",
       "      <th>볼드&amp;에스닉</th>\n",
       "    </tr>\n",
       "  </thead>\n",
       "  <tbody>\n",
       "    <tr>\n",
       "      <th>0</th>\n",
       "      <td>1</td>\n",
       "      <td>Edna</td>\n",
       "      <td>의류</td>\n",
       "      <td>20대 중반/20대 후반/30대 초반</td>\n",
       "      <td>모던시크/러블리</td>\n",
       "      <td>False</td>\n",
       "      <td>True</td>\n",
       "      <td>False</td>\n",
       "      <td>True</td>\n",
       "      <td>False</td>\n",
       "      <td>...</td>\n",
       "      <td>False</td>\n",
       "      <td>False</td>\n",
       "      <td>False</td>\n",
       "      <td>False</td>\n",
       "      <td>False</td>\n",
       "      <td>False</td>\n",
       "      <td>False</td>\n",
       "      <td>False</td>\n",
       "      <td>False</td>\n",
       "      <td>False</td>\n",
       "    </tr>\n",
       "    <tr>\n",
       "      <th>1</th>\n",
       "      <td>2</td>\n",
       "      <td>Pam</td>\n",
       "      <td>의류</td>\n",
       "      <td>20대 중반/20대 후반/30대 초반</td>\n",
       "      <td>러블리/심플베이직</td>\n",
       "      <td>False</td>\n",
       "      <td>False</td>\n",
       "      <td>True</td>\n",
       "      <td>True</td>\n",
       "      <td>False</td>\n",
       "      <td>...</td>\n",
       "      <td>False</td>\n",
       "      <td>False</td>\n",
       "      <td>False</td>\n",
       "      <td>False</td>\n",
       "      <td>False</td>\n",
       "      <td>False</td>\n",
       "      <td>False</td>\n",
       "      <td>False</td>\n",
       "      <td>False</td>\n",
       "      <td>False</td>\n",
       "    </tr>\n",
       "    <tr>\n",
       "      <th>2</th>\n",
       "      <td>3</td>\n",
       "      <td>Carolyn</td>\n",
       "      <td>의류</td>\n",
       "      <td>20대 중반/20대 후반/30대 초반</td>\n",
       "      <td>모던시크/심플베이직</td>\n",
       "      <td>False</td>\n",
       "      <td>True</td>\n",
       "      <td>True</td>\n",
       "      <td>False</td>\n",
       "      <td>False</td>\n",
       "      <td>...</td>\n",
       "      <td>False</td>\n",
       "      <td>False</td>\n",
       "      <td>False</td>\n",
       "      <td>False</td>\n",
       "      <td>False</td>\n",
       "      <td>False</td>\n",
       "      <td>False</td>\n",
       "      <td>False</td>\n",
       "      <td>False</td>\n",
       "      <td>False</td>\n",
       "    </tr>\n",
       "    <tr>\n",
       "      <th>3</th>\n",
       "      <td>4</td>\n",
       "      <td>Joan</td>\n",
       "      <td>의류</td>\n",
       "      <td>30대 초반/30대 중반</td>\n",
       "      <td>미시스타일/유니크</td>\n",
       "      <td>False</td>\n",
       "      <td>False</td>\n",
       "      <td>False</td>\n",
       "      <td>False</td>\n",
       "      <td>True</td>\n",
       "      <td>...</td>\n",
       "      <td>False</td>\n",
       "      <td>False</td>\n",
       "      <td>False</td>\n",
       "      <td>False</td>\n",
       "      <td>False</td>\n",
       "      <td>False</td>\n",
       "      <td>False</td>\n",
       "      <td>False</td>\n",
       "      <td>False</td>\n",
       "      <td>False</td>\n",
       "    </tr>\n",
       "    <tr>\n",
       "      <th>4</th>\n",
       "      <td>5</td>\n",
       "      <td>Florene</td>\n",
       "      <td>의류</td>\n",
       "      <td>20대 중반/20대 후반/30대 초반</td>\n",
       "      <td>심플베이직/헐리웃스타일</td>\n",
       "      <td>False</td>\n",
       "      <td>False</td>\n",
       "      <td>True</td>\n",
       "      <td>False</td>\n",
       "      <td>False</td>\n",
       "      <td>...</td>\n",
       "      <td>False</td>\n",
       "      <td>False</td>\n",
       "      <td>False</td>\n",
       "      <td>False</td>\n",
       "      <td>True</td>\n",
       "      <td>False</td>\n",
       "      <td>False</td>\n",
       "      <td>False</td>\n",
       "      <td>False</td>\n",
       "      <td>False</td>\n",
       "    </tr>\n",
       "  </tbody>\n",
       "</table>\n",
       "<p>5 rows × 24 columns</p>\n",
       "</div>"
      ],
      "text/plain": [
       "   shop_id     name category                   age         style    페미닌  \\\n",
       "0        1     Edna       의류  20대 중반/20대 후반/30대 초반      모던시크/러블리  False   \n",
       "1        2      Pam       의류  20대 중반/20대 후반/30대 초반     러블리/심플베이직  False   \n",
       "2        3  Carolyn       의류  20대 중반/20대 후반/30대 초반    모던시크/심플베이직  False   \n",
       "3        4     Joan       의류         30대 초반/30대 중반     미시스타일/유니크  False   \n",
       "4        5  Florene       의류  20대 중반/20대 후반/30대 초반  심플베이직/헐리웃스타일  False   \n",
       "\n",
       "    모던시크  심플베이직    러블리    유니크  ...    스쿨룩    로맨틱   오피스룩    럭셔리 헐리웃스타일   심플시크  \\\n",
       "0   True  False   True  False  ...  False  False  False  False  False  False   \n",
       "1  False   True   True  False  ...  False  False  False  False  False  False   \n",
       "2   True   True  False  False  ...  False  False  False  False  False  False   \n",
       "3  False  False  False   True  ...  False  False  False  False  False  False   \n",
       "4  False   True  False  False  ...  False  False  False  False   True  False   \n",
       "\n",
       "      키치     펑키     큐티 볼드&에스닉  \n",
       "0  False  False  False  False  \n",
       "1  False  False  False  False  \n",
       "2  False  False  False  False  \n",
       "3  False  False  False  False  \n",
       "4  False  False  False  False  \n",
       "\n",
       "[5 rows x 24 columns]"
      ]
     },
     "execution_count": 42,
     "metadata": {},
     "output_type": "execute_result"
    }
   ],
   "source": [
    "style_list = ['페미닌', '모던시크', '심플베이직', '러블리', '유니크', '미시스타일', '캠퍼스룩', '빈티지', '섹시글램', '스쿨룩', '로맨틱', '오피스룩',\n",
    "              '럭셔리', '헐리웃스타일', '심플시크', '키치', '펑키', '큐티', '볼드&에스닉' ]\n",
    "\n",
    "for i in style_list:\n",
    "    shop[i] = shop['style'].str.contains(i)\n",
    "    \n",
    "shop.head()"
   ]
  },
  {
   "cell_type": "markdown",
   "metadata": {},
   "source": [
    "### Draw a graph showing the age group of the three style categories below."
   ]
  },
  {
   "cell_type": "markdown",
   "metadata": {},
   "source": [
    "* 심플 베이직\n",
    "* 러블리\n",
    "* 모던시크"
   ]
  },
  {
   "cell_type": "code",
   "execution_count": 43,
   "metadata": {},
   "outputs": [
    {
     "data": {
      "text/html": [
       "<div>\n",
       "<style scoped>\n",
       "    .dataframe tbody tr th:only-of-type {\n",
       "        vertical-align: middle;\n",
       "    }\n",
       "\n",
       "    .dataframe tbody tr th {\n",
       "        vertical-align: top;\n",
       "    }\n",
       "\n",
       "    .dataframe thead th {\n",
       "        text-align: right;\n",
       "    }\n",
       "</style>\n",
       "<table border=\"1\" class=\"dataframe\">\n",
       "  <thead>\n",
       "    <tr style=\"text-align: right;\">\n",
       "      <th></th>\n",
       "      <th>timestamp</th>\n",
       "      <th>user_id</th>\n",
       "      <th>goods_id</th>\n",
       "      <th>shop_id</th>\n",
       "      <th>price</th>\n",
       "      <th>hour</th>\n",
       "      <th>os</th>\n",
       "      <th>age_x</th>\n",
       "      <th>age_group</th>\n",
       "      <th>name</th>\n",
       "      <th>...</th>\n",
       "      <th>스쿨룩</th>\n",
       "      <th>로맨틱</th>\n",
       "      <th>오피스룩</th>\n",
       "      <th>럭셔리</th>\n",
       "      <th>헐리웃스타일</th>\n",
       "      <th>심플시크</th>\n",
       "      <th>키치</th>\n",
       "      <th>펑키</th>\n",
       "      <th>큐티</th>\n",
       "      <th>볼드&amp;에스닉</th>\n",
       "    </tr>\n",
       "  </thead>\n",
       "  <tbody>\n",
       "    <tr>\n",
       "      <th>0</th>\n",
       "      <td>2018-06-11 00:00:43.032</td>\n",
       "      <td>bvu0aLTqiFDoU-963xnr5nzQWTNLUMjx</td>\n",
       "      <td>1414</td>\n",
       "      <td>38</td>\n",
       "      <td>45000</td>\n",
       "      <td>0</td>\n",
       "      <td>iOS</td>\n",
       "      <td>39</td>\n",
       "      <td>30대 후반</td>\n",
       "      <td>Mabel</td>\n",
       "      <td>...</td>\n",
       "      <td>False</td>\n",
       "      <td>False</td>\n",
       "      <td>False</td>\n",
       "      <td>False</td>\n",
       "      <td>False</td>\n",
       "      <td>False</td>\n",
       "      <td>False</td>\n",
       "      <td>False</td>\n",
       "      <td>False</td>\n",
       "      <td>False</td>\n",
       "    </tr>\n",
       "    <tr>\n",
       "      <th>1</th>\n",
       "      <td>2018-06-11 07:33:39.823</td>\n",
       "      <td>ni3NQK35j-YaSxli-C_Sz7ZmQqOwMljL</td>\n",
       "      <td>2278</td>\n",
       "      <td>38</td>\n",
       "      <td>37000</td>\n",
       "      <td>7</td>\n",
       "      <td>And</td>\n",
       "      <td>32</td>\n",
       "      <td>30대 초반</td>\n",
       "      <td>Mabel</td>\n",
       "      <td>...</td>\n",
       "      <td>False</td>\n",
       "      <td>False</td>\n",
       "      <td>False</td>\n",
       "      <td>False</td>\n",
       "      <td>False</td>\n",
       "      <td>False</td>\n",
       "      <td>False</td>\n",
       "      <td>False</td>\n",
       "      <td>False</td>\n",
       "      <td>False</td>\n",
       "    </tr>\n",
       "    <tr>\n",
       "      <th>2</th>\n",
       "      <td>2018-06-11 12:56:27.867</td>\n",
       "      <td>MnvhmV0tA89bN9TLXgRTbLza689bTkT9</td>\n",
       "      <td>5513</td>\n",
       "      <td>38</td>\n",
       "      <td>31000</td>\n",
       "      <td>12</td>\n",
       "      <td>And</td>\n",
       "      <td>37</td>\n",
       "      <td>30대 후반</td>\n",
       "      <td>Mabel</td>\n",
       "      <td>...</td>\n",
       "      <td>False</td>\n",
       "      <td>False</td>\n",
       "      <td>False</td>\n",
       "      <td>False</td>\n",
       "      <td>False</td>\n",
       "      <td>False</td>\n",
       "      <td>False</td>\n",
       "      <td>False</td>\n",
       "      <td>False</td>\n",
       "      <td>False</td>\n",
       "    </tr>\n",
       "    <tr>\n",
       "      <th>3</th>\n",
       "      <td>2018-06-11 22:57:11.582</td>\n",
       "      <td>3Vo9NP0qU_176pgbqk6Cu-CY7kpJ2-WB</td>\n",
       "      <td>7026</td>\n",
       "      <td>38</td>\n",
       "      <td>17100</td>\n",
       "      <td>22</td>\n",
       "      <td>iOS</td>\n",
       "      <td>34</td>\n",
       "      <td>30대 중반</td>\n",
       "      <td>Mabel</td>\n",
       "      <td>...</td>\n",
       "      <td>False</td>\n",
       "      <td>False</td>\n",
       "      <td>False</td>\n",
       "      <td>False</td>\n",
       "      <td>False</td>\n",
       "      <td>False</td>\n",
       "      <td>False</td>\n",
       "      <td>False</td>\n",
       "      <td>False</td>\n",
       "      <td>False</td>\n",
       "    </tr>\n",
       "    <tr>\n",
       "      <th>4</th>\n",
       "      <td>2018-06-11 00:02:33.763</td>\n",
       "      <td>smDmRnykg61KajpxXKzQ0oNkrh2nuSBj</td>\n",
       "      <td>1351</td>\n",
       "      <td>12</td>\n",
       "      <td>9500</td>\n",
       "      <td>0</td>\n",
       "      <td>And</td>\n",
       "      <td>17</td>\n",
       "      <td>10대</td>\n",
       "      <td>Rachel</td>\n",
       "      <td>...</td>\n",
       "      <td>False</td>\n",
       "      <td>False</td>\n",
       "      <td>False</td>\n",
       "      <td>False</td>\n",
       "      <td>False</td>\n",
       "      <td>False</td>\n",
       "      <td>False</td>\n",
       "      <td>False</td>\n",
       "      <td>False</td>\n",
       "      <td>False</td>\n",
       "    </tr>\n",
       "  </tbody>\n",
       "</table>\n",
       "<p>5 rows × 32 columns</p>\n",
       "</div>"
      ],
      "text/plain": [
       "                timestamp                           user_id  goods_id  \\\n",
       "0 2018-06-11 00:00:43.032  bvu0aLTqiFDoU-963xnr5nzQWTNLUMjx      1414   \n",
       "1 2018-06-11 07:33:39.823  ni3NQK35j-YaSxli-C_Sz7ZmQqOwMljL      2278   \n",
       "2 2018-06-11 12:56:27.867  MnvhmV0tA89bN9TLXgRTbLza689bTkT9      5513   \n",
       "3 2018-06-11 22:57:11.582  3Vo9NP0qU_176pgbqk6Cu-CY7kpJ2-WB      7026   \n",
       "4 2018-06-11 00:02:33.763  smDmRnykg61KajpxXKzQ0oNkrh2nuSBj      1351   \n",
       "\n",
       "   shop_id  price  hour   os  age_x age_group    name  ...    스쿨룩    로맨틱  \\\n",
       "0       38  45000     0  iOS     39    30대 후반   Mabel  ...  False  False   \n",
       "1       38  37000     7  And     32    30대 초반   Mabel  ...  False  False   \n",
       "2       38  31000    12  And     37    30대 후반   Mabel  ...  False  False   \n",
       "3       38  17100    22  iOS     34    30대 중반   Mabel  ...  False  False   \n",
       "4       12   9500     0  And     17       10대  Rachel  ...  False  False   \n",
       "\n",
       "    오피스룩    럭셔리 헐리웃스타일   심플시크     키치     펑키     큐티 볼드&에스닉  \n",
       "0  False  False  False  False  False  False  False  False  \n",
       "1  False  False  False  False  False  False  False  False  \n",
       "2  False  False  False  False  False  False  False  False  \n",
       "3  False  False  False  False  False  False  False  False  \n",
       "4  False  False  False  False  False  False  False  False  \n",
       "\n",
       "[5 rows x 32 columns]"
      ]
     },
     "execution_count": 43,
     "metadata": {},
     "output_type": "execute_result"
    }
   ],
   "source": [
    "merge = pd.merge(order, user, on = 'user_id')\n",
    "merge = pd.merge(merge, shop, on = 'shop_id')\n",
    "\n",
    "merge.head()"
   ]
  },
  {
   "cell_type": "code",
   "execution_count": 44,
   "metadata": {},
   "outputs": [
    {
     "data": {
      "text/plain": [
       "<matplotlib.axes._subplots.AxesSubplot at 0x25bd7762bc8>"
      ]
     },
     "execution_count": 44,
     "metadata": {},
     "output_type": "execute_result"
    },
    {
     "name": "stderr",
     "output_type": "stream",
     "text": [
      "C:\\Users\\youjin\\anaconda3\\lib\\site-packages\\matplotlib\\backends\\backend_agg.py:214: RuntimeWarning: Glyph 8722 missing from current font.\n",
      "  font.set_text(s, 0.0, flags=flags)\n",
      "C:\\Users\\youjin\\anaconda3\\lib\\site-packages\\matplotlib\\backends\\backend_agg.py:183: RuntimeWarning: Glyph 8722 missing from current font.\n",
      "  font.set_text(s, 0, flags=flags)\n"
     ]
    },
    {
     "data": {
      "image/png": "[encoded data removed]",
      "text/plain": [
       "<Figure size 1080x288 with 1 Axes>"
      ]
     },
     "metadata": {
      "image/png": {
       "height": 263,
       "width": 877
      },
      "needs_background": "light"
     },
     "output_type": "display_data"
    }
   ],
   "source": [
    "plt.figure(figsize = (15,4))\n",
    "sns.distplot(merge.loc[merge['심플베이직'] == True, 'age_x'], label = '심플베이직', hist=False)\n",
    "sns.distplot(merge.loc[merge['러블리'] == True, 'age_x'], label = '러블리', hist=False)\n",
    "sns.distplot(merge.loc[merge['모던시크'] == True, 'age_x'], label = '모던시크', hist=False)"
   ]
  },
  {
   "cell_type": "markdown",
   "metadata": {},
   "source": [
    "### Visualize page duration of each customer"
   ]
  },
  {
   "cell_type": "code",
   "execution_count": 45,
   "metadata": {},
   "outputs": [
    {
     "data": {
      "text/plain": [
       "timestamp          object\n",
       "user_id            object\n",
       "event_origin       object\n",
       "event_name         object\n",
       "event_goods_id    float64\n",
       "event_shop_id     float64\n",
       "dtype: object"
      ]
     },
     "execution_count": 45,
     "metadata": {},
     "output_type": "execute_result"
    }
   ],
   "source": [
    "query = \"SELECT * FROM 'log'\"\n",
    "log = pd.read_sql(query, connect)\n",
    "\n",
    "log.dtypes"
   ]
  },
  {
   "cell_type": "code",
   "execution_count": 46,
   "metadata": {},
   "outputs": [
    {
     "data": {
      "text/plain": [
       "timestamp         datetime64[ns]\n",
       "user_id                   object\n",
       "event_origin              object\n",
       "event_name                object\n",
       "event_goods_id           float64\n",
       "event_shop_id            float64\n",
       "dtype: object"
      ]
     },
     "execution_count": 46,
     "metadata": {},
     "output_type": "execute_result"
    }
   ],
   "source": [
    "log['timestamp'] = pd.to_datetime(log['timestamp'])\n",
    "log.dtypes"
   ]
  },
  {
   "cell_type": "code",
   "execution_count": 49,
   "metadata": {},
   "outputs": [],
   "source": [
    "id = {}\n",
    "count = 1\n",
    "for i in log['user_id'].unique():\n",
    "    id[i] = count\n",
    "    count += 1"
   ]
  },
  {
   "cell_type": "code",
   "execution_count": 50,
   "metadata": {},
   "outputs": [
    {
     "data": {
      "text/html": [
       "<div>\n",
       "<style scoped>\n",
       "    .dataframe tbody tr th:only-of-type {\n",
       "        vertical-align: middle;\n",
       "    }\n",
       "\n",
       "    .dataframe tbody tr th {\n",
       "        vertical-align: top;\n",
       "    }\n",
       "\n",
       "    .dataframe thead th {\n",
       "        text-align: right;\n",
       "    }\n",
       "</style>\n",
       "<table border=\"1\" class=\"dataframe\">\n",
       "  <thead>\n",
       "    <tr style=\"text-align: right;\">\n",
       "      <th></th>\n",
       "      <th>timestamp</th>\n",
       "      <th>user_id</th>\n",
       "      <th>event_origin</th>\n",
       "      <th>event_name</th>\n",
       "      <th>event_goods_id</th>\n",
       "      <th>event_shop_id</th>\n",
       "      <th>new_id</th>\n",
       "    </tr>\n",
       "  </thead>\n",
       "  <tbody>\n",
       "    <tr>\n",
       "      <th>0</th>\n",
       "      <td>2018-06-11 00:00:00.213</td>\n",
       "      <td>K1d8_t3-QIskaSkrx32oAFu856D8JmLo</td>\n",
       "      <td>shops_ranking</td>\n",
       "      <td>app_page_view</td>\n",
       "      <td>NaN</td>\n",
       "      <td>NaN</td>\n",
       "      <td>1</td>\n",
       "    </tr>\n",
       "    <tr>\n",
       "      <th>1</th>\n",
       "      <td>2018-06-11 00:00:00.810</td>\n",
       "      <td>lwFZ77v_ygk0uU40t1ud3l30EZ6sE2R3</td>\n",
       "      <td>shops_bookmark</td>\n",
       "      <td>app_page_view</td>\n",
       "      <td>NaN</td>\n",
       "      <td>NaN</td>\n",
       "      <td>2</td>\n",
       "    </tr>\n",
       "    <tr>\n",
       "      <th>2</th>\n",
       "      <td>2018-06-11 00:00:00.956</td>\n",
       "      <td>mR-bO6hC9g-m8ERXMRQZaRwJFvzNNdd8</td>\n",
       "      <td>goods_search_result/로브</td>\n",
       "      <td>app_page_view</td>\n",
       "      <td>NaN</td>\n",
       "      <td>NaN</td>\n",
       "      <td>3</td>\n",
       "    </tr>\n",
       "    <tr>\n",
       "      <th>3</th>\n",
       "      <td>2018-06-11 00:00:01.084</td>\n",
       "      <td>K1d8_t3-QIskaSkrx32oAFu856D8JmLo</td>\n",
       "      <td>shops_bookmark</td>\n",
       "      <td>app_page_view</td>\n",
       "      <td>NaN</td>\n",
       "      <td>NaN</td>\n",
       "      <td>1</td>\n",
       "    </tr>\n",
       "    <tr>\n",
       "      <th>4</th>\n",
       "      <td>2018-06-11 00:00:01.561</td>\n",
       "      <td>Yjny5AchUWLiuv4kdeq50COF-S8OFXPd</td>\n",
       "      <td>shops_bookmark</td>\n",
       "      <td>app_page_view</td>\n",
       "      <td>NaN</td>\n",
       "      <td>NaN</td>\n",
       "      <td>4</td>\n",
       "    </tr>\n",
       "  </tbody>\n",
       "</table>\n",
       "</div>"
      ],
      "text/plain": [
       "                timestamp                           user_id  \\\n",
       "0 2018-06-11 00:00:00.213  K1d8_t3-QIskaSkrx32oAFu856D8JmLo   \n",
       "1 2018-06-11 00:00:00.810  lwFZ77v_ygk0uU40t1ud3l30EZ6sE2R3   \n",
       "2 2018-06-11 00:00:00.956  mR-bO6hC9g-m8ERXMRQZaRwJFvzNNdd8   \n",
       "3 2018-06-11 00:00:01.084  K1d8_t3-QIskaSkrx32oAFu856D8JmLo   \n",
       "4 2018-06-11 00:00:01.561  Yjny5AchUWLiuv4kdeq50COF-S8OFXPd   \n",
       "\n",
       "             event_origin     event_name  event_goods_id  event_shop_id  \\\n",
       "0           shops_ranking  app_page_view             NaN            NaN   \n",
       "1          shops_bookmark  app_page_view             NaN            NaN   \n",
       "2  goods_search_result/로브  app_page_view             NaN            NaN   \n",
       "3          shops_bookmark  app_page_view             NaN            NaN   \n",
       "4          shops_bookmark  app_page_view             NaN            NaN   \n",
       "\n",
       "   new_id  \n",
       "0       1  \n",
       "1       2  \n",
       "2       3  \n",
       "3       1  \n",
       "4       4  "
      ]
     },
     "execution_count": 50,
     "metadata": {},
     "output_type": "execute_result"
    }
   ],
   "source": [
    "log['new_id'] = log['user_id'].map(id)\n",
    "log.head()"
   ]
  },
  {
   "cell_type": "code",
   "execution_count": 51,
   "metadata": {},
   "outputs": [
    {
     "name": "stdout",
     "output_type": "stream",
     "text": [
      "구매한 총 고객 수:  832 명\n",
      "log데이터에 기록된 고객 수:  9909 명\n",
      "중복되는 고객 수:  742 명\n"
     ]
    }
   ],
   "source": [
    "user_number_order = len(set(order['user_id']))\n",
    "user_number_log = len(set(log['user_id']))\n",
    "user_duplicated = set(order['user_id']) & set(log['user_id'])\n",
    "\n",
    "print('구매한 총 고객 수: ',user_number_order,'명')\n",
    "print('log데이터에 기록된 고객 수: ',user_number_log,'명')\n",
    "print('중복되는 고객 수: ', len(user_duplicated),'명')"
   ]
  },
  {
   "cell_type": "code",
   "execution_count": 52,
   "metadata": {},
   "outputs": [
    {
     "name": "stderr",
     "output_type": "stream",
     "text": [
      "C:\\Users\\youjin\\anaconda3\\lib\\site-packages\\ipykernel_launcher.py:2: SettingWithCopyWarning: \n",
      "A value is trying to be set on a copy of a slice from a DataFrame.\n",
      "Try using .loc[row_indexer,col_indexer] = value instead\n",
      "\n",
      "See the caveats in the documentation: https://pandas.pydata.org/pandas-docs/stable/user_guide/indexing.html#returning-a-view-versus-a-copy\n",
      "  \n",
      "C:\\Users\\youjin\\anaconda3\\lib\\site-packages\\ipykernel_launcher.py:3: SettingWithCopyWarning: \n",
      "A value is trying to be set on a copy of a slice from a DataFrame.\n",
      "Try using .loc[row_indexer,col_indexer] = value instead\n",
      "\n",
      "See the caveats in the documentation: https://pandas.pydata.org/pandas-docs/stable/user_guide/indexing.html#returning-a-view-versus-a-copy\n",
      "  This is separate from the ipykernel package so we can avoid doing imports until\n",
      "C:\\Users\\youjin\\anaconda3\\lib\\site-packages\\ipykernel_launcher.py:4: SettingWithCopyWarning: \n",
      "A value is trying to be set on a copy of a slice from a DataFrame.\n",
      "Try using .loc[row_indexer,col_indexer] = value instead\n",
      "\n",
      "See the caveats in the documentation: https://pandas.pydata.org/pandas-docs/stable/user_guide/indexing.html#returning-a-view-versus-a-copy\n",
      "  after removing the cwd from sys.path.\n"
     ]
    },
    {
     "data": {
      "text/plain": [
       "Index(['timestamp', 'user_id', 'goods_id', 'shop_id', 'price', 'hour',\n",
       "       'event_origin', 'event_name', 'event_goods_id'],\n",
       "      dtype='object')"
      ]
     },
     "execution_count": 52,
     "metadata": {},
     "output_type": "execute_result"
    }
   ],
   "source": [
    "order_copy = order[order['user_id'].isin(user_duplicated)]\n",
    "order_copy['event_origin'] = order_copy['shop_id']\n",
    "order_copy['event_name'] = 'purchase'\n",
    "order_copy['event_goods_id'] = order_copy['goods_id']\n",
    "\n",
    "order_copy.columns"
   ]
  },
  {
   "cell_type": "code",
   "execution_count": 53,
   "metadata": {},
   "outputs": [
    {
     "data": {
      "text/plain": [
       "(106587, 8)"
      ]
     },
     "execution_count": 53,
     "metadata": {},
     "output_type": "execute_result"
    }
   ],
   "source": [
    "order_copy = order_copy[['timestamp', 'user_id','event_origin',\n",
    "       'event_name', 'event_goods_id', 'price']]\n",
    "\n",
    "log_order = pd.concat([log, order_copy], sort = False)\n",
    "log_order.shape"
   ]
  },
  {
   "cell_type": "code",
   "execution_count": 54,
   "metadata": {},
   "outputs": [
    {
     "data": {
      "text/html": [
       "<div>\n",
       "<style scoped>\n",
       "    .dataframe tbody tr th:only-of-type {\n",
       "        vertical-align: middle;\n",
       "    }\n",
       "\n",
       "    .dataframe tbody tr th {\n",
       "        vertical-align: top;\n",
       "    }\n",
       "\n",
       "    .dataframe thead th {\n",
       "        text-align: right;\n",
       "    }\n",
       "</style>\n",
       "<table border=\"1\" class=\"dataframe\">\n",
       "  <thead>\n",
       "    <tr style=\"text-align: right;\">\n",
       "      <th></th>\n",
       "      <th>timestamp</th>\n",
       "      <th>user_id</th>\n",
       "      <th>event_origin</th>\n",
       "      <th>event_name</th>\n",
       "      <th>event_goods_id</th>\n",
       "      <th>event_shop_id</th>\n",
       "      <th>new_id</th>\n",
       "      <th>price</th>\n",
       "      <th>purchase</th>\n",
       "    </tr>\n",
       "  </thead>\n",
       "  <tbody>\n",
       "    <tr>\n",
       "      <th>0</th>\n",
       "      <td>2018-06-11 00:00:00.213</td>\n",
       "      <td>K1d8_t3-QIskaSkrx32oAFu856D8JmLo</td>\n",
       "      <td>shops_ranking</td>\n",
       "      <td>app_page_view</td>\n",
       "      <td>NaN</td>\n",
       "      <td>NaN</td>\n",
       "      <td>1.0</td>\n",
       "      <td>NaN</td>\n",
       "      <td>False</td>\n",
       "    </tr>\n",
       "    <tr>\n",
       "      <th>1</th>\n",
       "      <td>2018-06-11 00:00:00.810</td>\n",
       "      <td>lwFZ77v_ygk0uU40t1ud3l30EZ6sE2R3</td>\n",
       "      <td>shops_bookmark</td>\n",
       "      <td>app_page_view</td>\n",
       "      <td>NaN</td>\n",
       "      <td>NaN</td>\n",
       "      <td>2.0</td>\n",
       "      <td>NaN</td>\n",
       "      <td>False</td>\n",
       "    </tr>\n",
       "    <tr>\n",
       "      <th>2</th>\n",
       "      <td>2018-06-11 00:00:00.956</td>\n",
       "      <td>mR-bO6hC9g-m8ERXMRQZaRwJFvzNNdd8</td>\n",
       "      <td>goods_search_result/로브</td>\n",
       "      <td>app_page_view</td>\n",
       "      <td>NaN</td>\n",
       "      <td>NaN</td>\n",
       "      <td>3.0</td>\n",
       "      <td>NaN</td>\n",
       "      <td>False</td>\n",
       "    </tr>\n",
       "    <tr>\n",
       "      <th>3</th>\n",
       "      <td>2018-06-11 00:00:01.084</td>\n",
       "      <td>K1d8_t3-QIskaSkrx32oAFu856D8JmLo</td>\n",
       "      <td>shops_bookmark</td>\n",
       "      <td>app_page_view</td>\n",
       "      <td>NaN</td>\n",
       "      <td>NaN</td>\n",
       "      <td>1.0</td>\n",
       "      <td>NaN</td>\n",
       "      <td>False</td>\n",
       "    </tr>\n",
       "    <tr>\n",
       "      <th>4</th>\n",
       "      <td>2018-06-11 00:00:01.561</td>\n",
       "      <td>Yjny5AchUWLiuv4kdeq50COF-S8OFXPd</td>\n",
       "      <td>shops_bookmark</td>\n",
       "      <td>app_page_view</td>\n",
       "      <td>NaN</td>\n",
       "      <td>NaN</td>\n",
       "      <td>4.0</td>\n",
       "      <td>NaN</td>\n",
       "      <td>False</td>\n",
       "    </tr>\n",
       "  </tbody>\n",
       "</table>\n",
       "</div>"
      ],
      "text/plain": [
       "                timestamp                           user_id  \\\n",
       "0 2018-06-11 00:00:00.213  K1d8_t3-QIskaSkrx32oAFu856D8JmLo   \n",
       "1 2018-06-11 00:00:00.810  lwFZ77v_ygk0uU40t1ud3l30EZ6sE2R3   \n",
       "2 2018-06-11 00:00:00.956  mR-bO6hC9g-m8ERXMRQZaRwJFvzNNdd8   \n",
       "3 2018-06-11 00:00:01.084  K1d8_t3-QIskaSkrx32oAFu856D8JmLo   \n",
       "4 2018-06-11 00:00:01.561  Yjny5AchUWLiuv4kdeq50COF-S8OFXPd   \n",
       "\n",
       "             event_origin     event_name  event_goods_id  event_shop_id  \\\n",
       "0           shops_ranking  app_page_view             NaN            NaN   \n",
       "1          shops_bookmark  app_page_view             NaN            NaN   \n",
       "2  goods_search_result/로브  app_page_view             NaN            NaN   \n",
       "3          shops_bookmark  app_page_view             NaN            NaN   \n",
       "4          shops_bookmark  app_page_view             NaN            NaN   \n",
       "\n",
       "   new_id  price  purchase  \n",
       "0     1.0    NaN     False  \n",
       "1     2.0    NaN     False  \n",
       "2     3.0    NaN     False  \n",
       "3     1.0    NaN     False  \n",
       "4     4.0    NaN     False  "
      ]
     },
     "execution_count": 54,
     "metadata": {},
     "output_type": "execute_result"
    }
   ],
   "source": [
    "log_order['purchase'] = log_order['price'] > 0\n",
    "\n",
    "log_order.head()"
   ]
  },
  {
   "cell_type": "code",
   "execution_count": 55,
   "metadata": {},
   "outputs": [
    {
     "data": {
      "text/html": [
       "<div>\n",
       "<style scoped>\n",
       "    .dataframe tbody tr th:only-of-type {\n",
       "        vertical-align: middle;\n",
       "    }\n",
       "\n",
       "    .dataframe tbody tr th {\n",
       "        vertical-align: top;\n",
       "    }\n",
       "\n",
       "    .dataframe thead th {\n",
       "        text-align: right;\n",
       "    }\n",
       "</style>\n",
       "<table border=\"1\" class=\"dataframe\">\n",
       "  <thead>\n",
       "    <tr style=\"text-align: right;\">\n",
       "      <th></th>\n",
       "      <th>timestamp</th>\n",
       "      <th>user_id</th>\n",
       "      <th>event_origin</th>\n",
       "      <th>event_name</th>\n",
       "      <th>event_goods_id</th>\n",
       "      <th>event_shop_id</th>\n",
       "      <th>new_id</th>\n",
       "      <th>price</th>\n",
       "      <th>purchase</th>\n",
       "      <th>timestamp_after</th>\n",
       "    </tr>\n",
       "  </thead>\n",
       "  <tbody>\n",
       "    <tr>\n",
       "      <th>0</th>\n",
       "      <td>2018-06-11 15:57:10.615</td>\n",
       "      <td>--PYPMX8QWg0ioT5zfORmU-S5Lln0lot</td>\n",
       "      <td>shops_bookmark</td>\n",
       "      <td>app_page_view</td>\n",
       "      <td>NaN</td>\n",
       "      <td>NaN</td>\n",
       "      <td>5900.0</td>\n",
       "      <td>NaN</td>\n",
       "      <td>False</td>\n",
       "      <td>2018-06-11 15:59:05.505</td>\n",
       "    </tr>\n",
       "    <tr>\n",
       "      <th>1</th>\n",
       "      <td>2018-06-11 15:59:05.505</td>\n",
       "      <td>--PYPMX8QWg0ioT5zfORmU-S5Lln0lot</td>\n",
       "      <td>shops_bookmark</td>\n",
       "      <td>app_page_view</td>\n",
       "      <td>NaN</td>\n",
       "      <td>NaN</td>\n",
       "      <td>5900.0</td>\n",
       "      <td>NaN</td>\n",
       "      <td>False</td>\n",
       "      <td>NaT</td>\n",
       "    </tr>\n",
       "    <tr>\n",
       "      <th>2</th>\n",
       "      <td>2018-06-11 00:55:37.309</td>\n",
       "      <td>-16-xXbeDcvkZJtTpRwMi57Yo2ZQpORv</td>\n",
       "      <td>my_goods</td>\n",
       "      <td>app_page_view</td>\n",
       "      <td>NaN</td>\n",
       "      <td>NaN</td>\n",
       "      <td>1131.0</td>\n",
       "      <td>NaN</td>\n",
       "      <td>False</td>\n",
       "      <td>2018-06-11 00:55:44.430</td>\n",
       "    </tr>\n",
       "    <tr>\n",
       "      <th>3</th>\n",
       "      <td>2018-06-11 00:55:44.430</td>\n",
       "      <td>-16-xXbeDcvkZJtTpRwMi57Yo2ZQpORv</td>\n",
       "      <td>my_goods</td>\n",
       "      <td>enter_browser</td>\n",
       "      <td>2506.0</td>\n",
       "      <td>40.0</td>\n",
       "      <td>1131.0</td>\n",
       "      <td>NaN</td>\n",
       "      <td>False</td>\n",
       "      <td>2018-06-11 01:00:33.295</td>\n",
       "    </tr>\n",
       "    <tr>\n",
       "      <th>4</th>\n",
       "      <td>2018-06-11 01:00:33.295</td>\n",
       "      <td>-16-xXbeDcvkZJtTpRwMi57Yo2ZQpORv</td>\n",
       "      <td>my_goods</td>\n",
       "      <td>app_page_view</td>\n",
       "      <td>NaN</td>\n",
       "      <td>NaN</td>\n",
       "      <td>1131.0</td>\n",
       "      <td>NaN</td>\n",
       "      <td>False</td>\n",
       "      <td>2018-06-11 01:11:03.608</td>\n",
       "    </tr>\n",
       "  </tbody>\n",
       "</table>\n",
       "</div>"
      ],
      "text/plain": [
       "                timestamp                           user_id    event_origin  \\\n",
       "0 2018-06-11 15:57:10.615  --PYPMX8QWg0ioT5zfORmU-S5Lln0lot  shops_bookmark   \n",
       "1 2018-06-11 15:59:05.505  --PYPMX8QWg0ioT5zfORmU-S5Lln0lot  shops_bookmark   \n",
       "2 2018-06-11 00:55:37.309  -16-xXbeDcvkZJtTpRwMi57Yo2ZQpORv        my_goods   \n",
       "3 2018-06-11 00:55:44.430  -16-xXbeDcvkZJtTpRwMi57Yo2ZQpORv        my_goods   \n",
       "4 2018-06-11 01:00:33.295  -16-xXbeDcvkZJtTpRwMi57Yo2ZQpORv        my_goods   \n",
       "\n",
       "      event_name  event_goods_id  event_shop_id  new_id  price  purchase  \\\n",
       "0  app_page_view             NaN            NaN  5900.0    NaN     False   \n",
       "1  app_page_view             NaN            NaN  5900.0    NaN     False   \n",
       "2  app_page_view             NaN            NaN  1131.0    NaN     False   \n",
       "3  enter_browser          2506.0           40.0  1131.0    NaN     False   \n",
       "4  app_page_view             NaN            NaN  1131.0    NaN     False   \n",
       "\n",
       "          timestamp_after  \n",
       "0 2018-06-11 15:59:05.505  \n",
       "1                     NaT  \n",
       "2 2018-06-11 00:55:44.430  \n",
       "3 2018-06-11 01:00:33.295  \n",
       "4 2018-06-11 01:11:03.608  "
      ]
     },
     "execution_count": 55,
     "metadata": {},
     "output_type": "execute_result"
    }
   ],
   "source": [
    "log_order = log_order.sort_values(by = ['user_id', 'timestamp']).reset_index(drop = True)\n",
    "\n",
    "log_order['timestamp_after'] = log_order.groupby(['new_id'])['timestamp'].shift(-1)\n",
    "log_order.head()"
   ]
  },
  {
   "cell_type": "code",
   "execution_count": 58,
   "metadata": {},
   "outputs": [
    {
     "data": {
      "text/plain": [
       "timestamp          datetime64[ns]\n",
       "user_id                    object\n",
       "event_origin               object\n",
       "event_name                 object\n",
       "event_goods_id            float64\n",
       "event_shop_id             float64\n",
       "new_id                    float64\n",
       "price                     float64\n",
       "purchase                     bool\n",
       "timestamp_after    datetime64[ns]\n",
       "dtype: object"
      ]
     },
     "execution_count": 58,
     "metadata": {},
     "output_type": "execute_result"
    }
   ],
   "source": [
    "log_order['timestamp_after'] = pd.to_datetime(log_order['timestamp_after'])\n",
    "log_order['timestamp'] = pd.to_datetime(log_order['timestamp'])\n",
    "\n",
    "log_order.dtypes"
   ]
  },
  {
   "cell_type": "code",
   "execution_count": 59,
   "metadata": {},
   "outputs": [],
   "source": [
    "log_order['page_duration'] = log_order['timestamp_after'] - log_order['timestamp']"
   ]
  },
  {
   "cell_type": "code",
   "execution_count": 60,
   "metadata": {},
   "outputs": [
    {
     "data": {
      "text/plain": [
       "0   00:01:54.890000\n",
       "1               NaT\n",
       "2   00:00:07.121000\n",
       "3   00:04:48.865000\n",
       "4   00:10:30.313000\n",
       "Name: page_duration, dtype: timedelta64[ns]"
      ]
     },
     "execution_count": 60,
     "metadata": {},
     "output_type": "execute_result"
    }
   ],
   "source": [
    "log_order['page_duration'].head()"
   ]
  },
  {
   "cell_type": "code",
   "execution_count": 61,
   "metadata": {},
   "outputs": [
    {
     "data": {
      "text/plain": [
       "0    114.890\n",
       "1        NaN\n",
       "2      7.121\n",
       "3    288.865\n",
       "4    630.313\n",
       "Name: page_duration, dtype: float64"
      ]
     },
     "execution_count": 61,
     "metadata": {},
     "output_type": "execute_result"
    }
   ],
   "source": [
    "log_order['page_duration'] = log_order['page_duration'].dt.total_seconds()\n",
    "log_order['page_duration'].head()"
   ]
  },
  {
   "cell_type": "code",
   "execution_count": 62,
   "metadata": {},
   "outputs": [],
   "source": [
    "log_order['page_duration'] = log_order['page_duration'].fillna(0)"
   ]
  },
  {
   "cell_type": "code",
   "execution_count": 63,
   "metadata": {},
   "outputs": [],
   "source": [
    "is_out = []\n",
    "for i in log_order['page_duration']:\n",
    "    if i == 0:\n",
    "        is_out.append(True)\n",
    "    elif i >= 60*40:\n",
    "        is_out.append(True)\n",
    "    else:\n",
    "        is_out.append(False)\n",
    "        \n",
    "log_order['is_out'] = is_out"
   ]
  },
  {
   "cell_type": "code",
   "execution_count": 64,
   "metadata": {},
   "outputs": [
    {
     "name": "stderr",
     "output_type": "stream",
     "text": [
      "C:\\Users\\youjin\\anaconda3\\lib\\site-packages\\ipykernel_launcher.py:1: SettingWithCopyWarning: \n",
      "A value is trying to be set on a copy of a slice from a DataFrame.\n",
      "Try using .loc[row_indexer,col_indexer] = value instead\n",
      "\n",
      "See the caveats in the documentation: https://pandas.pydata.org/pandas-docs/stable/user_guide/indexing.html#returning-a-view-versus-a-copy\n",
      "  \"\"\"Entry point for launching an IPython kernel.\n"
     ]
    },
    {
     "data": {
      "text/html": [
       "<div>\n",
       "<style scoped>\n",
       "    .dataframe tbody tr th:only-of-type {\n",
       "        vertical-align: middle;\n",
       "    }\n",
       "\n",
       "    .dataframe tbody tr th {\n",
       "        vertical-align: top;\n",
       "    }\n",
       "\n",
       "    .dataframe thead th {\n",
       "        text-align: right;\n",
       "    }\n",
       "</style>\n",
       "<table border=\"1\" class=\"dataframe\">\n",
       "  <thead>\n",
       "    <tr style=\"text-align: right;\">\n",
       "      <th></th>\n",
       "      <th>is_out</th>\n",
       "      <th>page_duration</th>\n",
       "    </tr>\n",
       "  </thead>\n",
       "  <tbody>\n",
       "    <tr>\n",
       "      <th>0</th>\n",
       "      <td>False</td>\n",
       "      <td>114.890</td>\n",
       "    </tr>\n",
       "    <tr>\n",
       "      <th>1</th>\n",
       "      <td>True</td>\n",
       "      <td>0.000</td>\n",
       "    </tr>\n",
       "    <tr>\n",
       "      <th>2</th>\n",
       "      <td>False</td>\n",
       "      <td>7.121</td>\n",
       "    </tr>\n",
       "    <tr>\n",
       "      <th>3</th>\n",
       "      <td>False</td>\n",
       "      <td>288.865</td>\n",
       "    </tr>\n",
       "    <tr>\n",
       "      <th>4</th>\n",
       "      <td>False</td>\n",
       "      <td>630.313</td>\n",
       "    </tr>\n",
       "  </tbody>\n",
       "</table>\n",
       "</div>"
      ],
      "text/plain": [
       "   is_out  page_duration\n",
       "0   False        114.890\n",
       "1    True          0.000\n",
       "2   False          7.121\n",
       "3   False        288.865\n",
       "4   False        630.313"
      ]
     },
     "execution_count": 64,
     "metadata": {},
     "output_type": "execute_result"
    }
   ],
   "source": [
    "log_order[log_order['is_out'] == True]['page_duartion'] = 0\n",
    "log_order[['is_out','page_duration']].head()"
   ]
  }
 ],
 "metadata": {
  "kernelspec": {
   "display_name": "Python 3",
   "language": "python",
   "name": "python3"
  },
  "language_info": {
   "codemirror_mode": {
    "name": "ipython",
    "version": 3
   },
   "file_extension": ".py",
   "mimetype": "text/x-python",
   "name": "python",
   "nbconvert_exporter": "python",
   "pygments_lexer": "ipython3",
   "version": "3.7.6"
  }
 },
 "nbformat": 4,
 "nbformat_minor": 4
}
